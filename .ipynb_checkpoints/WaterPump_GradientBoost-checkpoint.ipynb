{
 "cells": [
  {
   "cell_type": "code",
   "execution_count": 1,
   "metadata": {},
   "outputs": [],
   "source": [
    "import pandas as pd\n",
    "import numpy as np"
   ]
  },
  {
   "cell_type": "code",
   "execution_count": 2,
   "metadata": {},
   "outputs": [],
   "source": [
    "x_train = pd.read_csv('WaterPumpData/features_train.csv')\n",
    "y_train = pd.read_csv('WaterPumpData/labels_train.csv')\n",
    "y_train['label'] = y_train.status_group.apply(lambda x: 2 if x == 'functional' else 1 if x == 'functional needs repair' else 0)"
   ]
  },
  {
   "cell_type": "code",
   "execution_count": 3,
   "metadata": {},
   "outputs": [],
   "source": [
    "import random\n",
    "from random import sample\n",
    "\n",
    "validation_set = sample(list(x_train.id), len(x_train)//5)"
   ]
  },
  {
   "cell_type": "code",
   "execution_count": 4,
   "metadata": {},
   "outputs": [],
   "source": [
    "from sklearn import preprocessing\n",
    "from sklearn.experimental import enable_hist_gradient_boosting\n",
    "from sklearn.ensemble import HistGradientBoostingClassifier\n",
    "\n",
    "def create_gradientbooster_model(feature_set, cat_var):\n",
    "    categorical_bool = [True if i in cat_var else False for i in feature_set]\n",
    "    le = preprocessing.LabelEncoder()\n",
    "    xx_train = x_train.copy()\n",
    "    xx_train[cat_var] = xx_train[cat_var].apply(le.fit_transform)\n",
    "    xxx_train = xx_train[feature_set].loc[~xx_train.id.isin(validation_set)]\n",
    "    xxx_validate = xx_train[feature_set].loc[xx_train.id.isin(validation_set)]\n",
    "    yy_train = y_train.loc[~y_train.id.isin(validation_set)].label\n",
    "    yy_validate = y_train.loc[y_train.id.isin(validation_set)].label\n",
    "    clf = HistGradientBoostingClassifier(categorical_features=categorical_bool)\n",
    "    clf.fit(xxx_train, yy_train)\n",
    "    \n",
    "    return clf, xxx_validate, pd.DataFrame(yy_validate)"
   ]
  },
  {
   "cell_type": "code",
   "execution_count": 5,
   "metadata": {},
   "outputs": [],
   "source": [
    "feature_set_1 = ['gps_height', 'basin', 'region', 'population', 'permit', 'construction_year', 'extraction_type_group', 'management_group', 'payment_type', 'quality_group', 'quantity_group', 'source_type', 'waterpoint_type_group']\n",
    "categorical_variables = ['basin', 'region', 'extraction_type_group', 'management_group', 'payment_type', 'quality_group', 'quantity_group', 'source_type', 'waterpoint_type_group', 'permit']\n",
    "\n",
    "model, xxx_validate, yy_validate = create_gradientbooster_model(feature_set_1, categorical_variables)"
   ]
  },
  {
   "cell_type": "code",
   "execution_count": 6,
   "metadata": {},
   "outputs": [
    {
     "data": {
      "text/plain": [
       "True     9349\n",
       "False    2531\n",
       "dtype: int64"
      ]
     },
     "execution_count": 6,
     "metadata": {},
     "output_type": "execute_result"
    }
   ],
   "source": [
    "pred = model.predict(xxx_validate)\n",
    "yy_validate['pred'] = pred\n",
    "(yy_validate.pred == yy_validate.label).value_counts()"
   ]
  },
  {
   "cell_type": "code",
   "execution_count": 7,
   "metadata": {},
   "outputs": [],
   "source": [
    "feature_set_2 = ['gps_height', 'basin', 'region_code', 'public_meeting', 'population', 'permit', 'scheme_management', 'construction_year', 'extraction_type_group', 'management_group', 'payment_type', 'quality_group', 'quantity_group', 'source', 'waterpoint_type']\n",
    "categorical_variables = ['basin', 'region_code', 'public_meeting', 'extraction_type_group', 'scheme_management', 'management_group', 'payment_type', 'quality_group', 'quantity_group', 'source', 'waterpoint_type', 'permit']\n",
    "\n",
    "model, xxx_validate, yy_validate = create_gradientbooster_model(feature_set_2, categorical_variables)"
   ]
  },
  {
   "cell_type": "code",
   "execution_count": 8,
   "metadata": {},
   "outputs": [
    {
     "data": {
      "text/plain": [
       "True     9379\n",
       "False    2501\n",
       "dtype: int64"
      ]
     },
     "execution_count": 8,
     "metadata": {},
     "output_type": "execute_result"
    }
   ],
   "source": [
    "pred = model.predict(xxx_validate)\n",
    "yy_validate['pred'] = pred\n",
    "(yy_validate.pred == yy_validate.label).value_counts()"
   ]
  },
  {
   "cell_type": "code",
   "execution_count": 9,
   "metadata": {},
   "outputs": [],
   "source": [
    "funder = x_train.funder.str.lower().value_counts()\n",
    "funder = funder[funder > 250]\n",
    "x_train['funder_mod'] = [i if i in funder else 'Unknown' for i in x_train.funder]"
   ]
  },
  {
   "cell_type": "code",
   "execution_count": 10,
   "metadata": {},
   "outputs": [
    {
     "data": {
      "text/plain": [
       "True     9404\n",
       "False    2476\n",
       "dtype: int64"
      ]
     },
     "execution_count": 10,
     "metadata": {},
     "output_type": "execute_result"
    }
   ],
   "source": [
    "feature_set_3 = ['amount_tsh', 'population', 'funder_mod', 'district_code', 'basin', 'public_meeting', 'scheme_management', 'permit', 'construction_year', 'extraction_type', 'management', 'payment', 'water_quality', 'quantity', 'source', 'waterpoint_type']\n",
    "categorical_variables = ['funder_mod', 'district_code', 'basin', 'public_meeting', 'scheme_management', 'permit', 'construction_year', 'extraction_type', 'management', 'payment', 'water_quality', 'quantity', 'source', 'waterpoint_type']\n",
    "\n",
    "model, xxx_validate, yy_validate = create_gradientbooster_model(feature_set_3, categorical_variables)\n",
    "pred = model.predict(xxx_validate)\n",
    "yy_validate['pred'] = pred\n",
    "(yy_validate.pred == yy_validate.label).value_counts()"
   ]
  },
  {
   "cell_type": "code",
   "execution_count": null,
   "metadata": {},
   "outputs": [],
   "source": []
  }
 ],
 "metadata": {
  "kernelspec": {
   "display_name": "Python 3",
   "language": "python",
   "name": "python3"
  },
  "language_info": {
   "codemirror_mode": {
    "name": "ipython",
    "version": 3
   },
   "file_extension": ".py",
   "mimetype": "text/x-python",
   "name": "python",
   "nbconvert_exporter": "python",
   "pygments_lexer": "ipython3",
   "version": "3.7.6"
  }
 },
 "nbformat": 4,
 "nbformat_minor": 4
}
