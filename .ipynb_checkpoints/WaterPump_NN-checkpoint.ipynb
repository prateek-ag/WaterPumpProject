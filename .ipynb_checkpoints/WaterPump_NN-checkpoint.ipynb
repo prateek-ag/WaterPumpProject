{
 "cells": [
  {
   "cell_type": "code",
   "execution_count": 1,
   "metadata": {},
   "outputs": [],
   "source": [
    "import pandas as pd\n",
    "import numpy as np"
   ]
  },
  {
   "cell_type": "code",
   "execution_count": 20,
   "metadata": {},
   "outputs": [],
   "source": [
    "x_train = pd.read_csv('WaterPumpData/features_train.csv')\n",
    "y_train = pd.read_csv('WaterPumpData/labels_train.csv')"
   ]
  },
  {
   "cell_type": "code",
   "execution_count": 21,
   "metadata": {},
   "outputs": [],
   "source": [
    "y_train['label'] = y_train.status_group.apply(lambda x: 2 if x == 'functional' else 1 if x == 'functional needs repair' else 0)"
   ]
  },
  {
   "cell_type": "code",
   "execution_count": 22,
   "metadata": {},
   "outputs": [],
   "source": [
    "funder = x_train.funder.str.lower().value_counts()\n",
    "funder = funder[funder > 250]\n",
    "x_train['funder_mod'] = [i if i in funder else 'Unknown' for i in x_train.funder]\n",
    "\n",
    "installer = x_train.funder.str.lower().value_counts()\n",
    "installer = funder[funder > 250]\n",
    "installer\n",
    "x_train['installer_mod'] = [i if i in installer else 'Unknown' for i in x_train.installer]"
   ]
  },
  {
   "cell_type": "code",
   "execution_count": 23,
   "metadata": {},
   "outputs": [],
   "source": [
    "import random\n",
    "from random import sample\n",
    "\n",
    "validation_set = sample(list(x_train.id), len(x_train)//5)"
   ]
  },
  {
   "cell_type": "code",
   "execution_count": 43,
   "metadata": {},
   "outputs": [],
   "source": [
    "from keras.utils import np_utils\n",
    "\n",
    "xx_train = x_train.loc[~x_train.id.isin(validation_set)]\n",
    "xx_validate = x_train.loc[x_train.id.isin(validation_set)]\n",
    "yy_train = np_utils.to_categorical(y_train.loc[~y_train.id.isin(validation_set)].label)\n",
    "yy_validate = y_train.loc[y_train.id.isin(validation_set)]"
   ]
  },
  {
   "cell_type": "code",
   "execution_count": 64,
   "metadata": {},
   "outputs": [
    {
     "data": {
      "text/plain": [
       "0        2\n",
       "1        2\n",
       "3        0\n",
       "5        2\n",
       "6        0\n",
       "        ..\n",
       "59395    2\n",
       "59396    2\n",
       "59397    2\n",
       "59398    2\n",
       "59399    2\n",
       "Name: label, Length: 47520, dtype: int64"
      ]
     },
     "execution_count": 64,
     "metadata": {},
     "output_type": "execute_result"
    }
   ],
   "source": [
    "y_train.loc[~y_train.id.isin(validation_set)].label"
   ]
  },
  {
   "cell_type": "code",
   "execution_count": 44,
   "metadata": {},
   "outputs": [
    {
     "data": {
      "text/plain": [
       "array([[0., 0., 1.],\n",
       "       [0., 0., 1.],\n",
       "       [1., 0., 0.],\n",
       "       ...,\n",
       "       [0., 0., 1.],\n",
       "       [0., 0., 1.],\n",
       "       [0., 0., 1.]], dtype=float32)"
      ]
     },
     "execution_count": 44,
     "metadata": {},
     "output_type": "execute_result"
    }
   ],
   "source": [
    "yy_train"
   ]
  },
  {
   "cell_type": "code",
   "execution_count": 45,
   "metadata": {},
   "outputs": [],
   "source": [
    "from sklearn.preprocessing import MinMaxScaler, OneHotEncoder, StandardScaler\n",
    "from sklearn.compose import ColumnTransformer\n",
    "from sklearn.model_selection import train_test_split\n",
    "from sklearn.pipeline import Pipeline\n",
    "\n",
    "def pipeline(feature_set, numeric_set):\n",
    "    numeric_features = numeric_set\n",
    "    numeric_transformer = Pipeline(steps=[\n",
    "        ('scaler', StandardScaler())])\n",
    "\n",
    "    categorical_features =  [i for i in feature_set if i not in numeric_set]\n",
    "    categorical_transformer = Pipeline(steps=[\n",
    "        ('onehot', OneHotEncoder(handle_unknown='ignore'))])\n",
    "\n",
    "    preprocessor = ColumnTransformer(\n",
    "        transformers=[\n",
    "            ('cat', categorical_transformer, categorical_features),\n",
    "            ('num', numeric_transformer, numeric_features)\n",
    "        ])\n",
    "\n",
    "    clf = Pipeline(steps=[('preprocessor', preprocessor)\n",
    "                         ])\n",
    "\n",
    "    clf.fit(xx_train)\n",
    "    \n",
    "    return clf"
   ]
  },
  {
   "cell_type": "code",
   "execution_count": 90,
   "metadata": {},
   "outputs": [],
   "source": [
    "feature_set_7 = ['amount_tsh', 'population', 'funder_mod', 'district_code', 'gps_height', 'region', 'public_meeting', 'scheme_management', 'permit', 'construction_year', 'extraction_type_group', 'management_group', 'payment_type', 'quality_group', 'quantity_group', 'source_type', 'waterpoint_type_group']\n",
    "numeric_set = ['amount_tsh', 'population', 'gps_height', 'construction_year']\n",
    "\n",
    "clf = pipeline(feature_set_7, numeric_set)\n",
    "\n",
    "xxx_train = pd.DataFrame(clf.transform(xx_train).todense())\n",
    "xxx_validate = pd.DataFrame(clf.transform(xx_validate).todense())\n",
    "yyy_validate = pd.DataFrame(yy_validate)\n",
    "yyy_train = pd.DataFrame(yy_train)"
   ]
  },
  {
   "cell_type": "code",
   "execution_count": 91,
   "metadata": {},
   "outputs": [
    {
     "data": {
      "text/html": [
       "<div>\n",
       "<style scoped>\n",
       "    .dataframe tbody tr th:only-of-type {\n",
       "        vertical-align: middle;\n",
       "    }\n",
       "\n",
       "    .dataframe tbody tr th {\n",
       "        vertical-align: top;\n",
       "    }\n",
       "\n",
       "    .dataframe thead th {\n",
       "        text-align: right;\n",
       "    }\n",
       "</style>\n",
       "<table border=\"1\" class=\"dataframe\">\n",
       "  <thead>\n",
       "    <tr style=\"text-align: right;\">\n",
       "      <th></th>\n",
       "      <th>0</th>\n",
       "      <th>1</th>\n",
       "      <th>2</th>\n",
       "    </tr>\n",
       "  </thead>\n",
       "  <tbody>\n",
       "    <tr>\n",
       "      <th>0</th>\n",
       "      <td>0.0</td>\n",
       "      <td>0.0</td>\n",
       "      <td>1.0</td>\n",
       "    </tr>\n",
       "    <tr>\n",
       "      <th>1</th>\n",
       "      <td>0.0</td>\n",
       "      <td>0.0</td>\n",
       "      <td>1.0</td>\n",
       "    </tr>\n",
       "    <tr>\n",
       "      <th>2</th>\n",
       "      <td>1.0</td>\n",
       "      <td>0.0</td>\n",
       "      <td>0.0</td>\n",
       "    </tr>\n",
       "    <tr>\n",
       "      <th>3</th>\n",
       "      <td>0.0</td>\n",
       "      <td>0.0</td>\n",
       "      <td>1.0</td>\n",
       "    </tr>\n",
       "    <tr>\n",
       "      <th>4</th>\n",
       "      <td>1.0</td>\n",
       "      <td>0.0</td>\n",
       "      <td>0.0</td>\n",
       "    </tr>\n",
       "    <tr>\n",
       "      <th>...</th>\n",
       "      <td>...</td>\n",
       "      <td>...</td>\n",
       "      <td>...</td>\n",
       "    </tr>\n",
       "    <tr>\n",
       "      <th>47515</th>\n",
       "      <td>0.0</td>\n",
       "      <td>0.0</td>\n",
       "      <td>1.0</td>\n",
       "    </tr>\n",
       "    <tr>\n",
       "      <th>47516</th>\n",
       "      <td>0.0</td>\n",
       "      <td>0.0</td>\n",
       "      <td>1.0</td>\n",
       "    </tr>\n",
       "    <tr>\n",
       "      <th>47517</th>\n",
       "      <td>0.0</td>\n",
       "      <td>0.0</td>\n",
       "      <td>1.0</td>\n",
       "    </tr>\n",
       "    <tr>\n",
       "      <th>47518</th>\n",
       "      <td>0.0</td>\n",
       "      <td>0.0</td>\n",
       "      <td>1.0</td>\n",
       "    </tr>\n",
       "    <tr>\n",
       "      <th>47519</th>\n",
       "      <td>0.0</td>\n",
       "      <td>0.0</td>\n",
       "      <td>1.0</td>\n",
       "    </tr>\n",
       "  </tbody>\n",
       "</table>\n",
       "<p>47520 rows × 3 columns</p>\n",
       "</div>"
      ],
      "text/plain": [
       "         0    1    2\n",
       "0      0.0  0.0  1.0\n",
       "1      0.0  0.0  1.0\n",
       "2      1.0  0.0  0.0\n",
       "3      0.0  0.0  1.0\n",
       "4      1.0  0.0  0.0\n",
       "...    ...  ...  ...\n",
       "47515  0.0  0.0  1.0\n",
       "47516  0.0  0.0  1.0\n",
       "47517  0.0  0.0  1.0\n",
       "47518  0.0  0.0  1.0\n",
       "47519  0.0  0.0  1.0\n",
       "\n",
       "[47520 rows x 3 columns]"
      ]
     },
     "execution_count": 91,
     "metadata": {},
     "output_type": "execute_result"
    }
   ],
   "source": [
    "yyy_train"
   ]
  },
  {
   "cell_type": "code",
   "execution_count": 52,
   "metadata": {},
   "outputs": [],
   "source": [
    "from keras.models import Sequential, Model\n",
    "from keras.layers import Dense, concatenate, Input\n",
    "from tensorflow.keras.optimizers import Adagrad, Adam\n",
    "from keras.callbacks import EarlyStopping"
   ]
  },
  {
   "cell_type": "code",
   "execution_count": 76,
   "metadata": {},
   "outputs": [],
   "source": [
    "ip = Input(shape=xxx_train.shape[1], name='ip')\n",
    "x1 = Dense(100, activation='relu')(ip)\n",
    "x2 = Dense(50, activation='relu')(x1)\n",
    "x3 = Dense(10, activation='relu')(x2)\n",
    "output = Dense(3, activation='softmax')(x3)\n",
    "\n",
    "model = Model(inputs = ip, outputs=output)\n",
    "model.compile(optimizer='adam', loss = 'categorical_crossentropy', metrics=['accuracy'])"
   ]
  },
  {
   "cell_type": "code",
   "execution_count": 77,
   "metadata": {},
   "outputs": [
    {
     "name": "stdout",
     "output_type": "stream",
     "text": [
      "Epoch 1/25\n",
      "2970/2970 [==============================] - 3s 819us/step - loss: 0.6366 - accuracy: 0.7346\n",
      "Epoch 2/25\n",
      "2970/2970 [==============================] - 2s 831us/step - loss: 0.5802 - accuracy: 0.7594\n",
      "Epoch 3/25\n",
      "2970/2970 [==============================] - 2s 759us/step - loss: 0.5572 - accuracy: 0.7687\n",
      "Epoch 4/25\n",
      "2970/2970 [==============================] - 2s 759us/step - loss: 0.5419 - accuracy: 0.7739\n",
      "Epoch 5/25\n",
      "2970/2970 [==============================] - 2s 749us/step - loss: 0.5306 - accuracy: 0.7799\n",
      "Epoch 6/25\n",
      "2970/2970 [==============================] - 2s 788us/step - loss: 0.5228 - accuracy: 0.7815\n",
      "Epoch 7/25\n",
      "2970/2970 [==============================] - 2s 764us/step - loss: 0.5151 - accuracy: 0.7856\n",
      "Epoch 8/25\n",
      "2970/2970 [==============================] - 2s 759us/step - loss: 0.5080 - accuracy: 0.7887\n",
      "Epoch 9/25\n",
      "2970/2970 [==============================] - 2s 760us/step - loss: 0.5022 - accuracy: 0.7900\n",
      "Epoch 10/25\n",
      "2970/2970 [==============================] - 2s 776us/step - loss: 0.4973 - accuracy: 0.7943\n",
      "Epoch 11/25\n",
      "2970/2970 [==============================] - 2s 770us/step - loss: 0.4920 - accuracy: 0.7944\n",
      "Epoch 12/25\n",
      "2970/2970 [==============================] - 2s 792us/step - loss: 0.4863 - accuracy: 0.7964\n",
      "Epoch 13/25\n",
      "2970/2970 [==============================] - 2s 782us/step - loss: 0.4829 - accuracy: 0.7989\n",
      "Epoch 14/25\n",
      "2970/2970 [==============================] - 2s 788us/step - loss: 0.4777 - accuracy: 0.7991\n",
      "Epoch 15/25\n",
      "2970/2970 [==============================] - 2s 767us/step - loss: 0.4754 - accuracy: 0.8012\n",
      "Epoch 16/25\n",
      "2970/2970 [==============================] - 2s 765us/step - loss: 0.4711 - accuracy: 0.8023\n",
      "Epoch 17/25\n",
      "2970/2970 [==============================] - 2s 770us/step - loss: 0.4678 - accuracy: 0.8043\n",
      "Epoch 18/25\n",
      "2970/2970 [==============================] - 2s 778us/step - loss: 0.4648 - accuracy: 0.8039\n",
      "Epoch 19/25\n",
      "2970/2970 [==============================] - 2s 769us/step - loss: 0.4614 - accuracy: 0.8049\n",
      "Epoch 20/25\n",
      "2970/2970 [==============================] - 2s 813us/step - loss: 0.4586 - accuracy: 0.8055\n",
      "Epoch 21/25\n",
      "2970/2970 [==============================] - 2s 827us/step - loss: 0.4561 - accuracy: 0.8076\n",
      "Epoch 22/25\n",
      "2970/2970 [==============================] - 3s 866us/step - loss: 0.4534 - accuracy: 0.8093\n",
      "Epoch 23/25\n",
      "2970/2970 [==============================] - 2s 798us/step - loss: 0.4496 - accuracy: 0.8098\n",
      "Epoch 24/25\n",
      "2970/2970 [==============================] - 3s 1ms/step - loss: 0.4473 - accuracy: 0.8110\n",
      "Epoch 25/25\n",
      "2970/2970 [==============================] - 3s 929us/step - loss: 0.4447 - accuracy: 0.8119\n"
     ]
    },
    {
     "data": {
      "text/plain": [
       "<keras.callbacks.History at 0x7f844207cdd0>"
      ]
     },
     "execution_count": 77,
     "metadata": {},
     "output_type": "execute_result"
    }
   ],
   "source": [
    "model.fit(xxx_train, yyy_train, epochs=25, batch_size = 16)"
   ]
  },
  {
   "cell_type": "code",
   "execution_count": 78,
   "metadata": {},
   "outputs": [
    {
     "name": "stderr",
     "output_type": "stream",
     "text": [
      "/Users/prateekagarwal2/opt/anaconda3/lib/python3.7/site-packages/ipykernel_launcher.py:8: SettingWithCopyWarning: \n",
      "A value is trying to be set on a copy of a slice from a DataFrame.\n",
      "Try using .loc[row_indexer,col_indexer] = value instead\n",
      "\n",
      "See the caveats in the documentation: https://pandas.pydata.org/pandas-docs/stable/user_guide/indexing.html#returning-a-view-versus-a-copy\n",
      "  \n",
      "/Users/prateekagarwal2/opt/anaconda3/lib/python3.7/site-packages/ipykernel_launcher.py:9: SettingWithCopyWarning: \n",
      "A value is trying to be set on a copy of a slice from a DataFrame.\n",
      "Try using .loc[row_indexer,col_indexer] = value instead\n",
      "\n",
      "See the caveats in the documentation: https://pandas.pydata.org/pandas-docs/stable/user_guide/indexing.html#returning-a-view-versus-a-copy\n",
      "  if __name__ == '__main__':\n",
      "/Users/prateekagarwal2/opt/anaconda3/lib/python3.7/site-packages/ipykernel_launcher.py:10: SettingWithCopyWarning: \n",
      "A value is trying to be set on a copy of a slice from a DataFrame.\n",
      "Try using .loc[row_indexer,col_indexer] = value instead\n",
      "\n",
      "See the caveats in the documentation: https://pandas.pydata.org/pandas-docs/stable/user_guide/indexing.html#returning-a-view-versus-a-copy\n",
      "  # Remove the CWD from sys.path while we load stuff.\n"
     ]
    },
    {
     "data": {
      "text/plain": [
       "True     9178\n",
       "False    2702\n",
       "Name: correct, dtype: int64"
      ]
     },
     "execution_count": 78,
     "metadata": {},
     "output_type": "execute_result"
    }
   ],
   "source": [
    "pred_raw = model.predict(xxx_validate)\n",
    "pred_enc = [np.argmax(i) for i in pred_raw]\n",
    "def decode(x):\n",
    "    if x == 0: return 'non functional'\n",
    "    if x == 1: return 'functional needs repair'\n",
    "    else: return 'functional'\n",
    "pred = [decode(i) for i in pred_enc]\n",
    "yy_validate['pred'] = pred\n",
    "yy_validate['pred_raw'] = tuple(pred_raw)\n",
    "yy_validate['correct'] = yy_validate.pred == yy_validate.status_group\n",
    "yy_validate.correct.value_counts()"
   ]
  },
  {
   "cell_type": "code",
   "execution_count": 85,
   "metadata": {},
   "outputs": [],
   "source": [
    "feature_set_8 = ['amount_tsh', 'population', 'funder_mod', 'lga', 'scheme_management', 'permit', 'construction_year', 'extraction_type_group', 'management_group', 'payment', 'quality_group', 'quantity_group', 'source_type', 'waterpoint_type_group']\n",
    "numeric_features = ['amount_tsh', 'population', 'construction_year']\n",
    "\n",
    "clf = pipeline(feature_set_8, numeric_features)"
   ]
  },
  {
   "cell_type": "code",
   "execution_count": 88,
   "metadata": {},
   "outputs": [],
   "source": [
    "xxx_train = pd.DataFrame(clf.transform(xx_train).todense())\n",
    "xxx_validate = pd.DataFrame(clf.transform(xx_validate).todense())"
   ]
  },
  {
   "cell_type": "code",
   "execution_count": 93,
   "metadata": {},
   "outputs": [
    {
     "name": "stdout",
     "output_type": "stream",
     "text": [
      "Epoch 1/25\n",
      "2970/2970 [==============================] - 3s 833us/step - loss: 0.3974 - accuracy: 0.7275\n",
      "Epoch 2/25\n",
      "2970/2970 [==============================] - 3s 859us/step - loss: 0.3719 - accuracy: 0.7463\n",
      "Epoch 3/25\n",
      "2970/2970 [==============================] - 3s 843us/step - loss: 0.3632 - accuracy: 0.7548\n",
      "Epoch 4/25\n",
      "2970/2970 [==============================] - 2s 812us/step - loss: 0.3574 - accuracy: 0.7567\n",
      "Epoch 5/25\n",
      "2970/2970 [==============================] - 3s 843us/step - loss: 0.3508 - accuracy: 0.7608\n",
      "Epoch 6/25\n",
      "2970/2970 [==============================] - 3s 931us/step - loss: 0.3460 - accuracy: 0.7651\n",
      "Epoch 7/25\n",
      "2970/2970 [==============================] - 3s 895us/step - loss: 0.3413 - accuracy: 0.7705\n",
      "Epoch 8/25\n",
      "2970/2970 [==============================] - 3s 857us/step - loss: 0.3375 - accuracy: 0.7712\n",
      "Epoch 9/25\n",
      "2970/2970 [==============================] - 2s 816us/step - loss: 0.3334 - accuracy: 0.7766\n",
      "Epoch 10/25\n",
      "2970/2970 [==============================] - 2s 821us/step - loss: 0.3302 - accuracy: 0.7781\n",
      "Epoch 11/25\n",
      "2970/2970 [==============================] - 2s 823us/step - loss: 0.3277 - accuracy: 0.7788\n",
      "Epoch 12/25\n",
      "2970/2970 [==============================] - 2s 814us/step - loss: 0.3243 - accuracy: 0.7815\n",
      "Epoch 13/25\n",
      "2970/2970 [==============================] - 2s 814us/step - loss: 0.3215 - accuracy: 0.7842\n",
      "Epoch 14/25\n",
      "2970/2970 [==============================] - 2s 827us/step - loss: 0.3195 - accuracy: 0.7858\n",
      "Epoch 15/25\n",
      "2970/2970 [==============================] - 2s 815us/step - loss: 0.3173 - accuracy: 0.7857\n",
      "Epoch 16/25\n",
      "2970/2970 [==============================] - 2s 822us/step - loss: 0.3145 - accuracy: 0.7890\n",
      "Epoch 17/25\n",
      "2970/2970 [==============================] - 2s 824us/step - loss: 0.3133 - accuracy: 0.7884\n",
      "Epoch 18/25\n",
      "2970/2970 [==============================] - 2s 833us/step - loss: 0.3107 - accuracy: 0.7908\n",
      "Epoch 19/25\n",
      "2970/2970 [==============================] - 3s 878us/step - loss: 0.3087 - accuracy: 0.7922\n",
      "Epoch 20/25\n",
      "2970/2970 [==============================] - 2s 831us/step - loss: 0.3064 - accuracy: 0.7942\n",
      "Epoch 21/25\n",
      "2970/2970 [==============================] - 3s 848us/step - loss: 0.3050 - accuracy: 0.7941\n",
      "Epoch 22/25\n",
      "2970/2970 [==============================] - 3s 858us/step - loss: 0.3036 - accuracy: 0.7961\n",
      "Epoch 23/25\n",
      "2970/2970 [==============================] - 3s 855us/step - loss: 0.3011 - accuracy: 0.7976\n",
      "Epoch 24/25\n",
      "2970/2970 [==============================] - 2s 840us/step - loss: 0.2994 - accuracy: 0.7990\n",
      "Epoch 25/25\n",
      "2970/2970 [==============================] - 3s 874us/step - loss: 0.2979 - accuracy: 0.7986\n"
     ]
    },
    {
     "data": {
      "text/plain": [
       "<keras.callbacks.History at 0x7f8425ce2b10>"
      ]
     },
     "execution_count": 93,
     "metadata": {},
     "output_type": "execute_result"
    }
   ],
   "source": [
    "ip = Input(shape=xxx_train.shape[1], name='ip')\n",
    "x2 = Dense(100, activation='elu')(ip)\n",
    "x3 = Dense(100, activation='elu')(x2)\n",
    "x4 = Dense(20, activation='relu')(x3)\n",
    "output = Dense(3, activation='softmax')(x4)\n",
    "\n",
    "model = Model(inputs = ip, outputs=output)\n",
    "model.compile(optimizer='adam', loss = 'binary_crossentropy', metrics=['accuracy'])\n",
    "model.fit(xxx_train, yyy_train, epochs=25, batch_size = 16)"
   ]
  },
  {
   "cell_type": "code",
   "execution_count": 94,
   "metadata": {},
   "outputs": [
    {
     "name": "stderr",
     "output_type": "stream",
     "text": [
      "/Users/prateekagarwal2/opt/anaconda3/lib/python3.7/site-packages/ipykernel_launcher.py:8: SettingWithCopyWarning: \n",
      "A value is trying to be set on a copy of a slice from a DataFrame.\n",
      "Try using .loc[row_indexer,col_indexer] = value instead\n",
      "\n",
      "See the caveats in the documentation: https://pandas.pydata.org/pandas-docs/stable/user_guide/indexing.html#returning-a-view-versus-a-copy\n",
      "  \n",
      "/Users/prateekagarwal2/opt/anaconda3/lib/python3.7/site-packages/ipykernel_launcher.py:9: SettingWithCopyWarning: \n",
      "A value is trying to be set on a copy of a slice from a DataFrame.\n",
      "Try using .loc[row_indexer,col_indexer] = value instead\n",
      "\n",
      "See the caveats in the documentation: https://pandas.pydata.org/pandas-docs/stable/user_guide/indexing.html#returning-a-view-versus-a-copy\n",
      "  if __name__ == '__main__':\n",
      "/Users/prateekagarwal2/opt/anaconda3/lib/python3.7/site-packages/ipykernel_launcher.py:10: SettingWithCopyWarning: \n",
      "A value is trying to be set on a copy of a slice from a DataFrame.\n",
      "Try using .loc[row_indexer,col_indexer] = value instead\n",
      "\n",
      "See the caveats in the documentation: https://pandas.pydata.org/pandas-docs/stable/user_guide/indexing.html#returning-a-view-versus-a-copy\n",
      "  # Remove the CWD from sys.path while we load stuff.\n"
     ]
    },
    {
     "data": {
      "text/plain": [
       "True     9185\n",
       "False    2695\n",
       "Name: correct, dtype: int64"
      ]
     },
     "execution_count": 94,
     "metadata": {},
     "output_type": "execute_result"
    }
   ],
   "source": [
    "pred_raw = model.predict(xxx_validate)\n",
    "pred_enc = [np.argmax(i) for i in pred_raw]\n",
    "def decode(x):\n",
    "    if x == 0: return 'non functional'\n",
    "    if x == 1: return 'functional needs repair'\n",
    "    else: return 'functional'\n",
    "pred = [decode(i) for i in pred_enc]\n",
    "yy_validate['pred'] = pred\n",
    "yy_validate['pred_raw'] = tuple(pred_raw)\n",
    "yy_validate['correct'] = yy_validate.pred == yy_validate.status_group\n",
    "yy_validate.correct.value_counts()"
   ]
  },
  {
   "cell_type": "code",
   "execution_count": 81,
   "metadata": {},
   "outputs": [
    {
     "name": "stdout",
     "output_type": "stream",
     "text": [
      "Epoch 1/25\n",
      "2970/2970 [==============================] - 3s 995us/step - loss: 0.6314 - accuracy: 0.7380\n",
      "Epoch 2/25\n",
      "2970/2970 [==============================] - 3s 987us/step - loss: 0.5692 - accuracy: 0.7626\n",
      "Epoch 3/25\n",
      "2970/2970 [==============================] - 3s 973us/step - loss: 0.5444 - accuracy: 0.7728\n",
      "Epoch 4/25\n",
      "2970/2970 [==============================] - 3s 925us/step - loss: 0.5281 - accuracy: 0.7795\n",
      "Epoch 5/25\n",
      "2970/2970 [==============================] - 3s 921us/step - loss: 0.5134 - accuracy: 0.7857\n",
      "Epoch 6/25\n",
      "2970/2970 [==============================] - 3s 953us/step - loss: 0.5026 - accuracy: 0.7890\n",
      "Epoch 7/25\n",
      "2970/2970 [==============================] - 3s 953us/step - loss: 0.4930 - accuracy: 0.7917\n",
      "Epoch 8/25\n",
      "2970/2970 [==============================] - 3s 965us/step - loss: 0.4838 - accuracy: 0.7953\n",
      "Epoch 9/25\n",
      "2970/2970 [==============================] - 3s 994us/step - loss: 0.4771 - accuracy: 0.7996\n",
      "Epoch 10/25\n",
      "2970/2970 [==============================] - 3s 1ms/step - loss: 0.4695 - accuracy: 0.7996\n",
      "Epoch 11/25\n",
      "2970/2970 [==============================] - 3s 1ms/step - loss: 0.4627 - accuracy: 0.8035\n",
      "Epoch 12/25\n",
      "2970/2970 [==============================] - 3s 1ms/step - loss: 0.4571 - accuracy: 0.8065\n",
      "Epoch 13/25\n",
      "2970/2970 [==============================] - 3s 1ms/step - loss: 0.4516 - accuracy: 0.8081\n",
      "Epoch 14/25\n",
      "2970/2970 [==============================] - 3s 978us/step - loss: 0.4465 - accuracy: 0.8092\n",
      "Epoch 15/25\n",
      "2970/2970 [==============================] - 3s 959us/step - loss: 0.4413 - accuracy: 0.8118\n",
      "Epoch 16/25\n",
      "2970/2970 [==============================] - 3s 968us/step - loss: 0.4372 - accuracy: 0.8133\n",
      "Epoch 17/25\n",
      "2970/2970 [==============================] - 3s 985us/step - loss: 0.4317 - accuracy: 0.8155\n",
      "Epoch 18/25\n",
      "2970/2970 [==============================] - 3s 1ms/step - loss: 0.4296 - accuracy: 0.8165\n",
      "Epoch 19/25\n",
      "2970/2970 [==============================] - 3s 981us/step - loss: 0.4246 - accuracy: 0.8169\n",
      "Epoch 20/25\n",
      "2970/2970 [==============================] - 3s 963us/step - loss: 0.4199 - accuracy: 0.8190\n",
      "Epoch 21/25\n",
      "2970/2970 [==============================] - 3s 964us/step - loss: 0.4175 - accuracy: 0.8206\n",
      "Epoch 22/25\n",
      "2970/2970 [==============================] - 3s 1ms/step - loss: 0.4160 - accuracy: 0.8219\n",
      "Epoch 23/25\n",
      "2970/2970 [==============================] - 3s 973us/step - loss: 0.4123 - accuracy: 0.8215\n",
      "Epoch 24/25\n",
      "2970/2970 [==============================] - 3s 959us/step - loss: 0.4095 - accuracy: 0.8231\n",
      "Epoch 25/25\n",
      "2970/2970 [==============================] - 3s 1ms/step - loss: 0.4066 - accuracy: 0.8255\n"
     ]
    },
    {
     "data": {
      "text/plain": [
       "<keras.callbacks.History at 0x7f8445a5a990>"
      ]
     },
     "execution_count": 81,
     "metadata": {},
     "output_type": "execute_result"
    }
   ],
   "source": [
    "ip = Input(shape=xxx_train.shape[1], name='ip')\n",
    "x1 = Dense(250, activation='relu')(ip)\n",
    "x2 = Dense(100, activation='relu')(x1)\n",
    "x3 = Dense(50, activation='relu')(x2)\n",
    "x4 = Dense(10, activation='relu')(x3)\n",
    "output = Dense(3, activation='softmax')(x4)\n",
    "\n",
    "model = Model(inputs = ip, outputs=output)\n",
    "model.compile(optimizer='adam', loss = 'categorical_crossentropy', metrics=['accuracy'])\n",
    "model.fit(xxx_train, yy_train, epochs=25, batch_size = 16)"
   ]
  },
  {
   "cell_type": "code",
   "execution_count": 82,
   "metadata": {},
   "outputs": [
    {
     "name": "stderr",
     "output_type": "stream",
     "text": [
      "/Users/prateekagarwal2/opt/anaconda3/lib/python3.7/site-packages/ipykernel_launcher.py:8: SettingWithCopyWarning: \n",
      "A value is trying to be set on a copy of a slice from a DataFrame.\n",
      "Try using .loc[row_indexer,col_indexer] = value instead\n",
      "\n",
      "See the caveats in the documentation: https://pandas.pydata.org/pandas-docs/stable/user_guide/indexing.html#returning-a-view-versus-a-copy\n",
      "  \n",
      "/Users/prateekagarwal2/opt/anaconda3/lib/python3.7/site-packages/ipykernel_launcher.py:9: SettingWithCopyWarning: \n",
      "A value is trying to be set on a copy of a slice from a DataFrame.\n",
      "Try using .loc[row_indexer,col_indexer] = value instead\n",
      "\n",
      "See the caveats in the documentation: https://pandas.pydata.org/pandas-docs/stable/user_guide/indexing.html#returning-a-view-versus-a-copy\n",
      "  if __name__ == '__main__':\n",
      "/Users/prateekagarwal2/opt/anaconda3/lib/python3.7/site-packages/ipykernel_launcher.py:10: SettingWithCopyWarning: \n",
      "A value is trying to be set on a copy of a slice from a DataFrame.\n",
      "Try using .loc[row_indexer,col_indexer] = value instead\n",
      "\n",
      "See the caveats in the documentation: https://pandas.pydata.org/pandas-docs/stable/user_guide/indexing.html#returning-a-view-versus-a-copy\n",
      "  # Remove the CWD from sys.path while we load stuff.\n"
     ]
    },
    {
     "data": {
      "text/plain": [
       "True     9154\n",
       "False    2726\n",
       "Name: correct, dtype: int64"
      ]
     },
     "execution_count": 82,
     "metadata": {},
     "output_type": "execute_result"
    }
   ],
   "source": [
    "pred_raw = model.predict(xxx_validate)\n",
    "pred_enc = [np.argmax(i) for i in pred_raw]\n",
    "def decode(x):\n",
    "    if x == 0: return 'non functional'\n",
    "    if x == 1: return 'functional needs repair'\n",
    "    else: return 'functional'\n",
    "pred = [decode(i) for i in pred_enc]\n",
    "yy_validate['pred'] = pred\n",
    "yy_validate['pred_raw'] = tuple(pred_raw)\n",
    "yy_validate['correct'] = yy_validate.pred == yy_validate.status_group\n",
    "yy_validate.correct.value_counts()"
   ]
  },
  {
   "cell_type": "code",
   "execution_count": null,
   "metadata": {},
   "outputs": [],
   "source": []
  }
 ],
 "metadata": {
  "kernelspec": {
   "display_name": "Python 3",
   "language": "python",
   "name": "python3"
  },
  "language_info": {
   "codemirror_mode": {
    "name": "ipython",
    "version": 3
   },
   "file_extension": ".py",
   "mimetype": "text/x-python",
   "name": "python",
   "nbconvert_exporter": "python",
   "pygments_lexer": "ipython3",
   "version": "3.7.6"
  }
 },
 "nbformat": 4,
 "nbformat_minor": 4
}
