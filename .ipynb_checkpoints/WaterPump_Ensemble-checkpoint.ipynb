{
 "cells": [
  {
   "cell_type": "code",
   "execution_count": 7,
   "metadata": {},
   "outputs": [],
   "source": [
    "import pandas as pd\n",
    "import numpy as np"
   ]
  },
  {
   "cell_type": "code",
   "execution_count": 8,
   "metadata": {},
   "outputs": [],
   "source": [
    "x_train = pd.read_csv('WaterPumpData/features_train.csv')\n",
    "y_train = pd.read_csv('WaterPumpData/labels_train.csv')"
   ]
  },
  {
   "cell_type": "code",
   "execution_count": 9,
   "metadata": {},
   "outputs": [],
   "source": [
    "y_train['label'] = y_train.status_group.apply(lambda x: 2 if x == 'functional' else 1 if x == 'functional needs repair' else 0)"
   ]
  },
  {
   "cell_type": "code",
   "execution_count": 10,
   "metadata": {},
   "outputs": [],
   "source": [
    "funder = x_train.funder.str.lower().value_counts()\n",
    "funder = funder[funder > 250]\n",
    "x_train['funder_mod'] = [i if i in funder else 'Unknown' for i in x_train.funder]\n",
    "\n",
    "installer = x_train.funder.str.lower().value_counts()\n",
    "installer = funder[funder > 250]\n",
    "installer\n",
    "x_train['installer_mod'] = [i if i in installer else 'Unknown' for i in x_train.installer]"
   ]
  },
  {
   "cell_type": "code",
   "execution_count": 11,
   "metadata": {},
   "outputs": [],
   "source": [
    "import random\n",
    "from random import sample\n",
    "from keras.utils import np_utils\n",
    "\n",
    "validation_set = sample(list(x_train.id), len(x_train)//5)"
   ]
  },
  {
   "cell_type": "code",
   "execution_count": 25,
   "metadata": {},
   "outputs": [],
   "source": [
    "xx_train = x_train.loc[~x_train.id.isin(validation_set)]\n",
    "xx_validate = x_train.loc[x_train.id.isin(validation_set)]\n",
    "yy_train = y_train.loc[~y_train.id.isin(validation_set)].label\n",
    "yy_train_nn = np_utils.to_categorical(y_train.loc[~y_train.id.isin(validation_set)].label)\n",
    "yy_validate = y_train.loc[y_train.id.isin(validation_set)]"
   ]
  },
  {
   "cell_type": "code",
   "execution_count": 13,
   "metadata": {},
   "outputs": [],
   "source": [
    "from sklearn.preprocessing import MinMaxScaler, OneHotEncoder, StandardScaler\n",
    "from sklearn.compose import ColumnTransformer\n",
    "from sklearn.model_selection import train_test_split\n",
    "from sklearn.pipeline import Pipeline\n",
    "\n",
    "def pipeline(feature_set, numeric_set):\n",
    "    numeric_features = numeric_set\n",
    "    numeric_transformer = Pipeline(steps=[\n",
    "        ('scaler', StandardScaler())])\n",
    "\n",
    "    categorical_features =  [i for i in feature_set if i not in numeric_set]\n",
    "    categorical_transformer = Pipeline(steps=[\n",
    "        ('onehot', OneHotEncoder(handle_unknown='ignore'))])\n",
    "\n",
    "    preprocessor = ColumnTransformer(\n",
    "        transformers=[\n",
    "            ('cat', categorical_transformer, categorical_features),\n",
    "            ('num', numeric_transformer, numeric_features)\n",
    "        ])\n",
    "\n",
    "    clf = Pipeline(steps=[('preprocessor', preprocessor)\n",
    "                         ])\n",
    "\n",
    "    clf.fit(xx_train)\n",
    "    \n",
    "    return clf"
   ]
  },
  {
   "cell_type": "code",
   "execution_count": 27,
   "metadata": {},
   "outputs": [],
   "source": [
    "feature_set_8 = ['amount_tsh', 'population', 'funder_mod', 'lga', 'gps_height', 'region', 'public_meeting', 'scheme_management', 'permit', 'construction_year', 'extraction_type_group', 'management_group', 'payment_type', 'quality_group', 'quantity_group', 'source_type', 'waterpoint_type_group']\n",
    "numeric_features = ['amount_tsh', 'population', 'gps_height']\n",
    "clf = pipeline(feature_set_8, numeric_features)\n",
    "\n",
    "xxx_train = pd.DataFrame(clf.transform(xx_train).todense())\n",
    "xxx_validate = pd.DataFrame(clf.transform(xx_validate).todense())\n",
    "yyy_train = pd.DataFrame(yy_train)\n",
    "yyy_train_nn = pd.DataFrame(yy_train_nn)\n",
    "yyy_validate = pd.DataFrame(yy_validate)"
   ]
  },
  {
   "cell_type": "code",
   "execution_count": 28,
   "metadata": {},
   "outputs": [],
   "source": [
    "from sklearn import preprocessing\n",
    "from sklearn.experimental import enable_hist_gradient_boosting\n",
    "from sklearn.ensemble import HistGradientBoostingClassifier\n",
    "\n",
    "def create_gradientbooster_model(feature_set, cat_var):\n",
    "    clf = HistGradientBoostingClassifier()\n",
    "    clf.fit(xxx_train, yy_train)\n",
    "    \n",
    "    return clf, xxx_validate, pd.DataFrame(yy_validate)"
   ]
  },
  {
   "cell_type": "code",
   "execution_count": 29,
   "metadata": {},
   "outputs": [],
   "source": [
    "from sklearn import preprocessing\n",
    "from sklearn.ensemble import RandomForestClassifier\n",
    "def create_randomforest_model(feature_set, cat_var):\n",
    "    clf = RandomForestClassifier()\n",
    "    clf.fit(xxx_train, yyy_train)\n",
    "    \n",
    "    return clf"
   ]
  },
  {
   "cell_type": "code",
   "execution_count": null,
   "metadata": {},
   "outputs": [],
   "source": []
  },
  {
   "cell_type": "code",
   "execution_count": 30,
   "metadata": {},
   "outputs": [
    {
     "name": "stderr",
     "output_type": "stream",
     "text": [
      "/Users/prateekagarwal2/opt/anaconda3/lib/python3.7/site-packages/sklearn/utils/validation.py:63: DataConversionWarning: A column-vector y was passed when a 1d array was expected. Please change the shape of y to (n_samples, ), for example using ravel().\n",
      "  return f(*args, **kwargs)\n"
     ]
    },
    {
     "data": {
      "text/plain": [
       "HistGradientBoostingClassifier()"
      ]
     },
     "execution_count": 30,
     "metadata": {},
     "output_type": "execute_result"
    }
   ],
   "source": [
    "grad_boost_model = HistGradientBoostingClassifier()\n",
    "grad_boost_model.fit(xxx_train, yyy_train)"
   ]
  },
  {
   "cell_type": "code",
   "execution_count": 31,
   "metadata": {},
   "outputs": [
    {
     "name": "stderr",
     "output_type": "stream",
     "text": [
      "/Users/prateekagarwal2/opt/anaconda3/lib/python3.7/site-packages/ipykernel_launcher.py:2: DataConversionWarning: A column-vector y was passed when a 1d array was expected. Please change the shape of y to (n_samples,), for example using ravel().\n",
      "  \n"
     ]
    },
    {
     "data": {
      "text/plain": [
       "RandomForestClassifier()"
      ]
     },
     "execution_count": 31,
     "metadata": {},
     "output_type": "execute_result"
    }
   ],
   "source": [
    "random_forest_model = RandomForestClassifier()\n",
    "random_forest_model.fit(xxx_train, yyy_train)"
   ]
  },
  {
   "cell_type": "code",
   "execution_count": 32,
   "metadata": {},
   "outputs": [
    {
     "name": "stdout",
     "output_type": "stream",
     "text": [
      "Epoch 1/25\n",
      "2970/2970 [==============================] - 3s 949us/step - loss: 0.6083 - accuracy: 0.7453\n",
      "Epoch 2/25\n",
      "2970/2970 [==============================] - 3s 949us/step - loss: 0.5393 - accuracy: 0.7739\n",
      "Epoch 3/25\n",
      "2970/2970 [==============================] - 3s 944us/step - loss: 0.5080 - accuracy: 0.7872\n",
      "Epoch 4/25\n",
      "2970/2970 [==============================] - 3s 971us/step - loss: 0.4876 - accuracy: 0.7955\n",
      "Epoch 5/25\n",
      "2970/2970 [==============================] - 3s 1ms/step - loss: 0.4706 - accuracy: 0.8037\n",
      "Epoch 6/25\n",
      "2970/2970 [==============================] - 3s 959us/step - loss: 0.4556 - accuracy: 0.8080\n",
      "Epoch 7/25\n",
      "2970/2970 [==============================] - 3s 956us/step - loss: 0.4411 - accuracy: 0.8129\n",
      "Epoch 8/25\n",
      "2970/2970 [==============================] - 3s 961us/step - loss: 0.4300 - accuracy: 0.8169\n",
      "Epoch 9/25\n",
      "2970/2970 [==============================] - 3s 960us/step - loss: 0.4183 - accuracy: 0.8225\n",
      "Epoch 10/25\n",
      "2970/2970 [==============================] - 3s 966us/step - loss: 0.4060 - accuracy: 0.8261\n",
      "Epoch 11/25\n",
      "2970/2970 [==============================] - 3s 966us/step - loss: 0.3992 - accuracy: 0.8307\n",
      "Epoch 12/25\n",
      "2970/2970 [==============================] - 3s 973us/step - loss: 0.3893 - accuracy: 0.8342\n",
      "Epoch 13/25\n",
      "2970/2970 [==============================] - 3s 962us/step - loss: 0.3810 - accuracy: 0.8364\n",
      "Epoch 14/25\n",
      "2970/2970 [==============================] - 3s 968us/step - loss: 0.3738 - accuracy: 0.8385\n",
      "Epoch 15/25\n",
      "2970/2970 [==============================] - 3s 980us/step - loss: 0.3678 - accuracy: 0.8416\n",
      "Epoch 16/25\n",
      "2970/2970 [==============================] - 3s 1ms/step - loss: 0.3615 - accuracy: 0.8436\n",
      "Epoch 17/25\n",
      "2970/2970 [==============================] - 3s 976us/step - loss: 0.3571 - accuracy: 0.8461\n",
      "Epoch 18/25\n",
      "2970/2970 [==============================] - 3s 971us/step - loss: 0.3516 - accuracy: 0.8484\n",
      "Epoch 19/25\n",
      "2970/2970 [==============================] - 3s 984us/step - loss: 0.3491 - accuracy: 0.8496\n",
      "Epoch 20/25\n",
      "2970/2970 [==============================] - 3s 1ms/step - loss: 0.3438 - accuracy: 0.8502\n",
      "Epoch 21/25\n",
      "2970/2970 [==============================] - 3s 986us/step - loss: 0.3402 - accuracy: 0.8526\n",
      "Epoch 22/25\n",
      "2970/2970 [==============================] - 3s 1ms/step - loss: 0.3363 - accuracy: 0.8553\n",
      "Epoch 23/25\n",
      "2970/2970 [==============================] - 3s 982us/step - loss: 0.3328 - accuracy: 0.8553\n",
      "Epoch 24/25\n",
      "2970/2970 [==============================] - 3s 969us/step - loss: 0.3307 - accuracy: 0.8566\n",
      "Epoch 25/25\n",
      "2970/2970 [==============================] - 3s 983us/step - loss: 0.3269 - accuracy: 0.8566\n"
     ]
    },
    {
     "data": {
      "text/plain": [
       "<keras.callbacks.History at 0x7fd410a997d0>"
      ]
     },
     "execution_count": 32,
     "metadata": {},
     "output_type": "execute_result"
    }
   ],
   "source": [
    "from keras.models import Sequential, Model\n",
    "from keras.layers import Dense, concatenate, Input\n",
    "from tensorflow.keras.optimizers import Adagrad, Adam\n",
    "from keras.callbacks import EarlyStopping\n",
    "\n",
    "ip = Input(shape=xxx_train.shape[1], name='ip')\n",
    "x1 = Dense(250, activation='relu')(ip)\n",
    "x2 = Dense(100, activation='relu')(x1)\n",
    "x3 = Dense(50, activation='relu')(x2)\n",
    "x4 = Dense(10, activation='relu')(x3)\n",
    "output = Dense(3, activation='softmax')(x4)\n",
    "\n",
    "nn_model = Model(inputs = ip, outputs=output)\n",
    "nn_model.compile(optimizer='adam', loss = 'categorical_crossentropy', metrics=['accuracy'])\n",
    "nn_model.fit(xxx_train, yyy_train_nn, epochs=25, batch_size = 16)"
   ]
  },
  {
   "cell_type": "code",
   "execution_count": 33,
   "metadata": {},
   "outputs": [],
   "source": [
    "grad_boost_pred = grad_boost_model.predict(xxx_validate)\n",
    "random_forest_pred = random_forest_model.predict(xxx_validate)\n",
    "nn_pred = nn_model.predict(xxx_validate)"
   ]
  },
  {
   "cell_type": "code",
   "execution_count": 34,
   "metadata": {},
   "outputs": [],
   "source": [
    "overall_pred = [0] * len(nn_pred)\n",
    "for idx, p in enumerate(nn_pred):\n",
    "    to_return = p\n",
    "    to_return[grad_boost_pred[idx]] += 0.8\n",
    "    to_return[random_forest_pred[idx]] += 0.8\n",
    "    overall_pred[idx] = to_return"
   ]
  },
  {
   "cell_type": "code",
   "execution_count": 35,
   "metadata": {},
   "outputs": [
    {
     "name": "stderr",
     "output_type": "stream",
     "text": [
      "/Users/prateekagarwal2/opt/anaconda3/lib/python3.7/site-packages/ipykernel_launcher.py:7: SettingWithCopyWarning: \n",
      "A value is trying to be set on a copy of a slice from a DataFrame.\n",
      "Try using .loc[row_indexer,col_indexer] = value instead\n",
      "\n",
      "See the caveats in the documentation: https://pandas.pydata.org/pandas-docs/stable/user_guide/indexing.html#returning-a-view-versus-a-copy\n",
      "  import sys\n",
      "/Users/prateekagarwal2/opt/anaconda3/lib/python3.7/site-packages/ipykernel_launcher.py:8: SettingWithCopyWarning: \n",
      "A value is trying to be set on a copy of a slice from a DataFrame.\n",
      "Try using .loc[row_indexer,col_indexer] = value instead\n",
      "\n",
      "See the caveats in the documentation: https://pandas.pydata.org/pandas-docs/stable/user_guide/indexing.html#returning-a-view-versus-a-copy\n",
      "  \n",
      "/Users/prateekagarwal2/opt/anaconda3/lib/python3.7/site-packages/ipykernel_launcher.py:9: SettingWithCopyWarning: \n",
      "A value is trying to be set on a copy of a slice from a DataFrame.\n",
      "Try using .loc[row_indexer,col_indexer] = value instead\n",
      "\n",
      "See the caveats in the documentation: https://pandas.pydata.org/pandas-docs/stable/user_guide/indexing.html#returning-a-view-versus-a-copy\n",
      "  if __name__ == '__main__':\n"
     ]
    },
    {
     "data": {
      "text/plain": [
       "True     9464\n",
       "False    2416\n",
       "Name: correct, dtype: int64"
      ]
     },
     "execution_count": 35,
     "metadata": {},
     "output_type": "execute_result"
    }
   ],
   "source": [
    "pred_enc = [np.argmax(i) for i in overall_pred]\n",
    "def decode(x):\n",
    "    if x == 0: return 'non functional'\n",
    "    if x == 1: return 'functional needs repair'\n",
    "    else: return 'functional'\n",
    "pred = [decode(i) for i in pred_enc]\n",
    "yy_validate['pred'] = pred\n",
    "yy_validate['pred_raw'] = tuple(overall_pred)\n",
    "yy_validate['correct'] = yy_validate.pred == yy_validate.status_group\n",
    "yy_validate.correct.value_counts()"
   ]
  },
  {
   "cell_type": "code",
   "execution_count": null,
   "metadata": {},
   "outputs": [],
   "source": []
  }
 ],
 "metadata": {
  "kernelspec": {
   "display_name": "Python 3",
   "language": "python",
   "name": "python3"
  },
  "language_info": {
   "codemirror_mode": {
    "name": "ipython",
    "version": 3
   },
   "file_extension": ".py",
   "mimetype": "text/x-python",
   "name": "python",
   "nbconvert_exporter": "python",
   "pygments_lexer": "ipython3",
   "version": "3.7.6"
  }
 },
 "nbformat": 4,
 "nbformat_minor": 4
}
