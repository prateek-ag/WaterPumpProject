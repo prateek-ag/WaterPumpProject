{
 "cells": [
  {
   "cell_type": "code",
   "execution_count": 34,
   "metadata": {},
   "outputs": [],
   "source": [
    "import pandas as pd\n",
    "import numpy as np"
   ]
  },
  {
   "cell_type": "code",
   "execution_count": 35,
   "metadata": {},
   "outputs": [],
   "source": [
    "x_train = pd.read_csv('WaterPumpData/features_train.csv')\n",
    "y_train = pd.read_csv('WaterPumpData/labels_train.csv')"
   ]
  },
  {
   "cell_type": "code",
   "execution_count": 36,
   "metadata": {},
   "outputs": [],
   "source": [
    "y_train['label'] = y_train.status_group.apply(lambda x: 1 if x == 'functional' else 0)"
   ]
  },
  {
   "cell_type": "code",
   "execution_count": 37,
   "metadata": {},
   "outputs": [],
   "source": [
    "funder = x_train.funder.str.lower().value_counts()\n",
    "funder = funder[funder > 250]\n",
    "x_train['funder_mod'] = [i if i in funder else 'Unknown' for i in x_train.funder]\n",
    "\n",
    "installer = x_train.funder.str.lower().value_counts()\n",
    "installer = funder[funder > 250]\n",
    "installer\n",
    "x_train['installer_mod'] = [i if i in installer else 'Unknown' for i in x_train.installer]"
   ]
  },
  {
   "cell_type": "code",
   "execution_count": 38,
   "metadata": {},
   "outputs": [],
   "source": [
    "import random\n",
    "from random import sample\n",
    "\n",
    "validation_set = sample(list(x_train.id), len(x_train)//5)"
   ]
  },
  {
   "cell_type": "code",
   "execution_count": 39,
   "metadata": {},
   "outputs": [],
   "source": [
    "xx_train = x_train.loc[~x_train.id.isin(validation_set)]\n",
    "xx_validate = x_train.loc[x_train.id.isin(validation_set)]\n",
    "yy_train = y_train.loc[~y_train.id.isin(validation_set)].label\n",
    "yy_validate = y_train.loc[y_train.id.isin(validation_set)].label"
   ]
  },
  {
   "cell_type": "code",
   "execution_count": 40,
   "metadata": {},
   "outputs": [],
   "source": [
    "from sklearn.preprocessing import MinMaxScaler, OneHotEncoder, StandardScaler\n",
    "from sklearn.compose import ColumnTransformer\n",
    "from sklearn.model_selection import train_test_split\n",
    "from sklearn.pipeline import Pipeline\n",
    "\n",
    "def pipeline(feature_set, numeric_set):\n",
    "    numeric_features = numeric_set\n",
    "    numeric_transformer = Pipeline(steps=[\n",
    "        ('scaler', StandardScaler())])\n",
    "\n",
    "    categorical_features =  [i for i in feature_set if i not in numeric_set]\n",
    "    categorical_transformer = Pipeline(steps=[\n",
    "        ('onehot', OneHotEncoder(handle_unknown='ignore'))])\n",
    "\n",
    "    preprocessor = ColumnTransformer(\n",
    "        transformers=[\n",
    "            ('cat', categorical_transformer, categorical_features),\n",
    "            ('num', numeric_transformer, numeric_features)\n",
    "        ])\n",
    "\n",
    "    clf = Pipeline(steps=[('preprocessor', preprocessor)\n",
    "                         ])\n",
    "\n",
    "    clf.fit(xx_train)\n",
    "    \n",
    "    return clf"
   ]
  },
  {
   "cell_type": "code",
   "execution_count": 49,
   "metadata": {},
   "outputs": [],
   "source": [
    "feature_set_7 = ['amount_tsh', 'population', 'funder_mod', 'district_code', 'gps_height', 'region', 'public_meeting', 'scheme_management', 'permit', 'construction_year', 'extraction_type_group', 'management_group', 'payment_type', 'quality_group', 'quantity_group', 'source_type', 'waterpoint_type_group']\n",
    "numeric_set = ['amount_tsh', 'population', 'gps_height', 'construction_year']\n",
    "\n",
    "clf = pipeline(feature_set_7, numeric_set)\n",
    "\n",
    "xxx_train = pd.DataFrame(clf.transform(xx_train).todense())\n",
    "xxx_validate = pd.DataFrame(clf.transform(xx_validate).todense())\n",
    "yyy_train = pd.DataFrame(yy_train)\n",
    "yyy_validate = pd.DataFrame(yy_validate)"
   ]
  },
  {
   "cell_type": "code",
   "execution_count": 50,
   "metadata": {},
   "outputs": [],
   "source": [
    "from keras.models import Sequential, Model\n",
    "from keras.layers import Dense, concatenate, Input\n",
    "from tensorflow.keras.optimizers import Adagrad, Adam\n",
    "from keras.callbacks import EarlyStopping"
   ]
  },
  {
   "cell_type": "code",
   "execution_count": 51,
   "metadata": {},
   "outputs": [],
   "source": [
    "ip = Input(shape=xxx_train.shape[1], name='ip')\n",
    "x1 = Dense(100, activation='relu')(ip)\n",
    "x2 = Dense(50, activation='relu')(x1)\n",
    "x3 = Dense(10, activation='relu')(x2)\n",
    "output = Dense(1, activation='sigmoid')(x3)\n",
    "\n",
    "model = Model(inputs = ip, outputs=output)\n",
    "model.compile(optimizer='adam', loss = 'binary_crossentropy', metrics=['accuracy'])"
   ]
  },
  {
   "cell_type": "code",
   "execution_count": 52,
   "metadata": {},
   "outputs": [
    {
     "name": "stdout",
     "output_type": "stream",
     "text": [
      "Epoch 1/25\n",
      "2970/2970 [==============================] - 3s 769us/step - loss: 0.4939 - accuracy: 0.7524\n",
      "Epoch 2/25\n",
      "2970/2970 [==============================] - 2s 840us/step - loss: 0.4542 - accuracy: 0.7788\n",
      "Epoch 3/25\n",
      "2970/2970 [==============================] - 2s 814us/step - loss: 0.4373 - accuracy: 0.7892\n",
      "Epoch 4/25\n",
      "2970/2970 [==============================] - 3s 857us/step - loss: 0.4272 - accuracy: 0.7961\n",
      "Epoch 5/25\n",
      "2970/2970 [==============================] - 2s 828us/step - loss: 0.4173 - accuracy: 0.8009\n",
      "Epoch 6/25\n",
      "2970/2970 [==============================] - 2s 814us/step - loss: 0.4111 - accuracy: 0.8044\n",
      "Epoch 7/25\n",
      "2970/2970 [==============================] - 2s 830us/step - loss: 0.4049 - accuracy: 0.8079\n",
      "Epoch 8/25\n",
      "2970/2970 [==============================] - 3s 886us/step - loss: 0.3992 - accuracy: 0.8127\n",
      "Epoch 9/25\n",
      "2970/2970 [==============================] - 3s 891us/step - loss: 0.3953 - accuracy: 0.8130\n",
      "Epoch 10/25\n",
      "2970/2970 [==============================] - 2s 802us/step - loss: 0.3912 - accuracy: 0.8152\n",
      "Epoch 11/25\n",
      "2970/2970 [==============================] - 3s 909us/step - loss: 0.3877 - accuracy: 0.8166\n",
      "Epoch 12/25\n",
      "2970/2970 [==============================] - 3s 912us/step - loss: 0.3845 - accuracy: 0.8186\n",
      "Epoch 13/25\n",
      "2970/2970 [==============================] - 2s 796us/step - loss: 0.3803 - accuracy: 0.8191\n",
      "Epoch 14/25\n",
      "2970/2970 [==============================] - 2s 812us/step - loss: 0.3768 - accuracy: 0.8224\n",
      "Epoch 15/25\n",
      "2970/2970 [==============================] - 2s 833us/step - loss: 0.3742 - accuracy: 0.8234\n",
      "Epoch 16/25\n",
      "2970/2970 [==============================] - 2s 778us/step - loss: 0.3724 - accuracy: 0.8250\n",
      "Epoch 17/25\n",
      "2970/2970 [==============================] - 2s 819us/step - loss: 0.3683 - accuracy: 0.8253\n",
      "Epoch 18/25\n",
      "2970/2970 [==============================] - 2s 795us/step - loss: 0.3665 - accuracy: 0.8266\n",
      "Epoch 19/25\n",
      "2970/2970 [==============================] - 2s 793us/step - loss: 0.3642 - accuracy: 0.8278\n",
      "Epoch 20/25\n",
      "2970/2970 [==============================] - 2s 829us/step - loss: 0.3619 - accuracy: 0.8288\n",
      "Epoch 21/25\n",
      "2970/2970 [==============================] - 2s 836us/step - loss: 0.3609 - accuracy: 0.8306\n",
      "Epoch 22/25\n",
      "2970/2970 [==============================] - 3s 847us/step - loss: 0.3573 - accuracy: 0.8317\n",
      "Epoch 23/25\n",
      "2970/2970 [==============================] - 2s 803us/step - loss: 0.3553 - accuracy: 0.8326\n",
      "Epoch 24/25\n",
      "2970/2970 [==============================] - 2s 821us/step - loss: 0.3541 - accuracy: 0.8309\n",
      "Epoch 25/25\n",
      "2970/2970 [==============================] - 2s 808us/step - loss: 0.3528 - accuracy: 0.8338\n"
     ]
    },
    {
     "data": {
      "text/plain": [
       "<keras.callbacks.History at 0x7fd6c01bd410>"
      ]
     },
     "execution_count": 52,
     "metadata": {},
     "output_type": "execute_result"
    }
   ],
   "source": [
    "model.fit(xxx_train, yyy_train, epochs=25, batch_size = 16)"
   ]
  },
  {
   "cell_type": "code",
   "execution_count": 53,
   "metadata": {},
   "outputs": [
    {
     "data": {
      "text/plain": [
       "True     9396\n",
       "False    2484\n",
       "Name: correct, dtype: int64"
      ]
     },
     "execution_count": 53,
     "metadata": {},
     "output_type": "execute_result"
    }
   ],
   "source": [
    "pred_raw = model.predict(xxx_validate).flatten()\n",
    "pred = [round(i) for i in pred_raw]\n",
    "yyy_validate['pred'] = pred\n",
    "yyy_validate['correct'] = (yyy_validate.label == yyy_validate.pred)\n",
    "\n",
    "yyy_validate.correct.value_counts()"
   ]
  },
  {
   "cell_type": "code",
   "execution_count": 54,
   "metadata": {},
   "outputs": [],
   "source": [
    "feature_set_8 = ['amount_tsh', 'population', 'funder_mod', 'lga', 'scheme_management', 'permit', 'construction_year', 'extraction_type_group', 'management_group', 'payment', 'quality_group', 'quantity_group', 'source_type', 'waterpoint_type_group']\n",
    "numeric_features = ['amount_tsh', 'population', 'construction_year']\n",
    "\n",
    "clf = pipeline(feature_set_8, numeric_features)"
   ]
  },
  {
   "cell_type": "code",
   "execution_count": 55,
   "metadata": {},
   "outputs": [],
   "source": [
    "xxx_train = pd.DataFrame(clf.transform(xx_train).todense())\n",
    "xxx_validate = pd.DataFrame(clf.transform(xx_validate).todense())\n",
    "yyy_train = pd.DataFrame(yy_train)\n",
    "yyy_validate = pd.DataFrame(yy_validate)"
   ]
  },
  {
   "cell_type": "code",
   "execution_count": 59,
   "metadata": {},
   "outputs": [
    {
     "name": "stdout",
     "output_type": "stream",
     "text": [
      "Epoch 1/25\n",
      "2970/2970 [==============================] - 3s 887us/step - loss: 0.4882 - accuracy: 0.7541\n",
      "Epoch 2/25\n",
      "2970/2970 [==============================] - 2s 838us/step - loss: 0.4569 - accuracy: 0.7763\n",
      "Epoch 3/25\n",
      "2970/2970 [==============================] - 2s 819us/step - loss: 0.4462 - accuracy: 0.7823\n",
      "Epoch 4/25\n",
      "2970/2970 [==============================] - 3s 884us/step - loss: 0.4398 - accuracy: 0.7873\n",
      "Epoch 5/25\n",
      "2970/2970 [==============================] - 2s 794us/step - loss: 0.4334 - accuracy: 0.7911\n",
      "Epoch 6/25\n",
      "2970/2970 [==============================] - 2s 817us/step - loss: 0.4287 - accuracy: 0.7936\n",
      "Epoch 7/25\n",
      "2970/2970 [==============================] - 3s 928us/step - loss: 0.4256 - accuracy: 0.79530s - loss: 0\n",
      "Epoch 8/25\n",
      "2970/2970 [==============================] - 2s 840us/step - loss: 0.4217 - accuracy: 0.7965\n",
      "Epoch 9/25\n",
      "2970/2970 [==============================] - 2s 825us/step - loss: 0.4181 - accuracy: 0.7982\n",
      "Epoch 10/25\n",
      "2970/2970 [==============================] - 2s 825us/step - loss: 0.4143 - accuracy: 0.8011\n",
      "Epoch 11/25\n",
      "2970/2970 [==============================] - 2s 822us/step - loss: 0.4125 - accuracy: 0.8020\n",
      "Epoch 12/25\n",
      "2970/2970 [==============================] - 3s 909us/step - loss: 0.4088 - accuracy: 0.8052\n",
      "Epoch 13/25\n",
      "2970/2970 [==============================] - 3s 933us/step - loss: 0.4065 - accuracy: 0.8062\n",
      "Epoch 14/25\n",
      "2970/2970 [==============================] - 3s 909us/step - loss: 0.4033 - accuracy: 0.8056\n",
      "Epoch 15/25\n",
      "2970/2970 [==============================] - 3s 889us/step - loss: 0.4010 - accuracy: 0.8089\n",
      "Epoch 16/25\n",
      "2970/2970 [==============================] - 3s 884us/step - loss: 0.3996 - accuracy: 0.8098\n",
      "Epoch 17/25\n",
      "2970/2970 [==============================] - 3s 891us/step - loss: 0.3965 - accuracy: 0.8114\n",
      "Epoch 18/25\n",
      "2970/2970 [==============================] - 3s 882us/step - loss: 0.3946 - accuracy: 0.8118\n",
      "Epoch 19/25\n",
      "2970/2970 [==============================] - 3s 843us/step - loss: 0.3929 - accuracy: 0.8131\n",
      "Epoch 20/25\n",
      "2970/2970 [==============================] - 2s 834us/step - loss: 0.3906 - accuracy: 0.8156\n",
      "Epoch 21/25\n",
      "2970/2970 [==============================] - 2s 835us/step - loss: 0.3889 - accuracy: 0.8152\n",
      "Epoch 22/25\n",
      "2970/2970 [==============================] - 2s 838us/step - loss: 0.3866 - accuracy: 0.8170\n",
      "Epoch 23/25\n",
      "2970/2970 [==============================] - 3s 1ms/step - loss: 0.3849 - accuracy: 0.8178\n",
      "Epoch 24/25\n",
      "2970/2970 [==============================] - 3s 1ms/step - loss: 0.3825 - accuracy: 0.8191\n",
      "Epoch 25/25\n",
      "2970/2970 [==============================] - 3s 879us/step - loss: 0.3806 - accuracy: 0.8219\n"
     ]
    },
    {
     "data": {
      "text/plain": [
       "<keras.callbacks.History at 0x7fd6be4cd810>"
      ]
     },
     "execution_count": 59,
     "metadata": {},
     "output_type": "execute_result"
    }
   ],
   "source": [
    "ip = Input(shape=xxx_train.shape[1], name='ip')\n",
    "x2 = Dense(100, activation='elu')(ip)\n",
    "x3 = Dense(100, activation='elu')(x2)\n",
    "x4 = Dense(20, activation='relu')(x3)\n",
    "output = Dense(1, activation='sigmoid')(x4)\n",
    "\n",
    "model = Model(inputs = ip, outputs=output)\n",
    "model.compile(optimizer='adam', loss = 'binary_crossentropy', metrics=['accuracy'])\n",
    "model.fit(xxx_train, yyy_train, epochs=25, batch_size = 16)"
   ]
  },
  {
   "cell_type": "code",
   "execution_count": 60,
   "metadata": {},
   "outputs": [
    {
     "data": {
      "text/plain": [
       "True     9379\n",
       "False    2501\n",
       "Name: correct, dtype: int64"
      ]
     },
     "execution_count": 60,
     "metadata": {},
     "output_type": "execute_result"
    }
   ],
   "source": [
    "pred_raw = model.predict(xxx_validate).flatten()\n",
    "pred = [round(i) for i in pred_raw]\n",
    "yyy_validate['pred'] = pred\n",
    "yyy_validate['correct'] = (yyy_validate.label == yyy_validate.pred)\n",
    "\n",
    "yyy_validate.correct.value_counts()"
   ]
  },
  {
   "cell_type": "code",
   "execution_count": 61,
   "metadata": {},
   "outputs": [
    {
     "name": "stdout",
     "output_type": "stream",
     "text": [
      "Epoch 1/25\n",
      "2970/2970 [==============================] - 4s 1ms/step - loss: 0.4792 - accuracy: 0.7629\n",
      "Epoch 2/25\n",
      "2970/2970 [==============================] - 3s 1ms/step - loss: 0.4388 - accuracy: 0.7891\n",
      "Epoch 3/25\n",
      "2970/2970 [==============================] - 3s 977us/step - loss: 0.4240 - accuracy: 0.7961\n",
      "Epoch 4/25\n",
      "2970/2970 [==============================] - 3s 970us/step - loss: 0.4128 - accuracy: 0.8033\n",
      "Epoch 5/25\n",
      "2970/2970 [==============================] - 3s 992us/step - loss: 0.4042 - accuracy: 0.8084\n",
      "Epoch 6/25\n",
      "2970/2970 [==============================] - 3s 1ms/step - loss: 0.3965 - accuracy: 0.8124\n",
      "Epoch 7/25\n",
      "2970/2970 [==============================] - 3s 1ms/step - loss: 0.3903 - accuracy: 0.8155\n",
      "Epoch 8/25\n",
      "2970/2970 [==============================] - 3s 1ms/step - loss: 0.3842 - accuracy: 0.8190\n",
      "Epoch 9/25\n",
      "2970/2970 [==============================] - 3s 1ms/step - loss: 0.3799 - accuracy: 0.8198\n",
      "Epoch 10/25\n",
      "2970/2970 [==============================] - 3s 1ms/step - loss: 0.3756 - accuracy: 0.8225\n",
      "Epoch 11/25\n",
      "2970/2970 [==============================] - 3s 1ms/step - loss: 0.3698 - accuracy: 0.8243\n",
      "Epoch 12/25\n",
      "2970/2970 [==============================] - 3s 1ms/step - loss: 0.3655 - accuracy: 0.8265: 0s - loss: 0.3652 - accuracy\n",
      "Epoch 13/25\n",
      "2970/2970 [==============================] - 3s 1ms/step - loss: 0.3617 - accuracy: 0.8302\n",
      "Epoch 14/25\n",
      "2970/2970 [==============================] - 3s 1ms/step - loss: 0.3592 - accuracy: 0.8302\n",
      "Epoch 15/25\n",
      "2970/2970 [==============================] - 3s 1ms/step - loss: 0.3540 - accuracy: 0.8320\n",
      "Epoch 16/25\n",
      "2970/2970 [==============================] - 3s 1ms/step - loss: 0.3523 - accuracy: 0.8343\n",
      "Epoch 17/25\n",
      "2970/2970 [==============================] - 3s 912us/step - loss: 0.3476 - accuracy: 0.8344\n",
      "Epoch 18/25\n",
      "2970/2970 [==============================] - 3s 918us/step - loss: 0.3458 - accuracy: 0.8365\n",
      "Epoch 19/25\n",
      "2970/2970 [==============================] - 4s 1ms/step - loss: 0.3455 - accuracy: 0.8368\n",
      "Epoch 20/25\n",
      "2970/2970 [==============================] - 3s 1ms/step - loss: 0.3405 - accuracy: 0.8386\n",
      "Epoch 21/25\n",
      "2970/2970 [==============================] - 3s 1ms/step - loss: 0.3374 - accuracy: 0.8398\n",
      "Epoch 22/25\n",
      "2970/2970 [==============================] - 3s 1ms/step - loss: 0.3369 - accuracy: 0.8400\n",
      "Epoch 23/25\n",
      "2970/2970 [==============================] - 3s 1ms/step - loss: 0.3355 - accuracy: 0.8405\n",
      "Epoch 24/25\n",
      "2970/2970 [==============================] - 3s 1ms/step - loss: 0.3324 - accuracy: 0.8416\n",
      "Epoch 25/25\n",
      "2970/2970 [==============================] - 3s 1ms/step - loss: 0.3308 - accuracy: 0.8425\n"
     ]
    },
    {
     "data": {
      "text/plain": [
       "<keras.callbacks.History at 0x7fd6bd8ba810>"
      ]
     },
     "execution_count": 61,
     "metadata": {},
     "output_type": "execute_result"
    }
   ],
   "source": [
    "ip = Input(shape=xxx_train.shape[1], name='ip')\n",
    "x1 = Dense(250, activation='relu')(ip)\n",
    "x2 = Dense(100, activation='relu')(x1)\n",
    "x3 = Dense(50, activation='relu')(x2)\n",
    "x4 = Dense(10, activation='relu')(x3)\n",
    "output = Dense(1, activation='sigmoid')(x4)\n",
    "\n",
    "model = Model(inputs = ip, outputs=output)\n",
    "model.compile(optimizer='adam', loss = 'binary_crossentropy', metrics=['accuracy'])\n",
    "model.fit(xxx_train, yyy_train, epochs=25, batch_size = 16)"
   ]
  },
  {
   "cell_type": "code",
   "execution_count": 62,
   "metadata": {},
   "outputs": [
    {
     "data": {
      "text/plain": [
       "True     9388\n",
       "False    2492\n",
       "Name: correct, dtype: int64"
      ]
     },
     "execution_count": 62,
     "metadata": {},
     "output_type": "execute_result"
    }
   ],
   "source": [
    "pred_raw = model.predict(xxx_validate).flatten()\n",
    "pred = [round(i) for i in pred_raw]\n",
    "yyy_validate['pred'] = pred\n",
    "yyy_validate['correct'] = (yyy_validate.label == yyy_validate.pred)\n",
    "\n",
    "yyy_validate.correct.value_counts()"
   ]
  }
 ],
 "metadata": {
  "kernelspec": {
   "display_name": "Python 3",
   "language": "python",
   "name": "python3"
  },
  "language_info": {
   "codemirror_mode": {
    "name": "ipython",
    "version": 3
   },
   "file_extension": ".py",
   "mimetype": "text/x-python",
   "name": "python",
   "nbconvert_exporter": "python",
   "pygments_lexer": "ipython3",
   "version": "3.7.6"
  }
 },
 "nbformat": 4,
 "nbformat_minor": 4
}
