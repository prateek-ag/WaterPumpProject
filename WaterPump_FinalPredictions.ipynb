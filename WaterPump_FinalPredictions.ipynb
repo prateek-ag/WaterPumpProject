{
 "cells": [
  {
   "cell_type": "code",
   "execution_count": 2,
   "metadata": {},
   "outputs": [],
   "source": [
    "import pandas as pd\n",
    "import numpy as np"
   ]
  },
  {
   "cell_type": "code",
   "execution_count": 4,
   "metadata": {},
   "outputs": [],
   "source": [
    "x_train = pd.read_csv('WaterPumpData/features_train.csv')\n",
    "y_train = pd.read_csv('WaterPumpData/labels_train.csv')"
   ]
  },
  {
   "cell_type": "code",
   "execution_count": 5,
   "metadata": {},
   "outputs": [],
   "source": [
    "y_train['label'] = y_train.status_group.apply(lambda x: 1 if x == 'functional' else 0)\n",
    "y_train = y_train.label"
   ]
  },
  {
   "cell_type": "code",
   "execution_count": 6,
   "metadata": {},
   "outputs": [],
   "source": [
    "funder = x_train.funder.str.lower().value_counts()\n",
    "funder = funder[funder > 250]\n",
    "x_train['funder_mod'] = [i if i in funder else 'Unknown' for i in x_train.funder]\n",
    "\n",
    "installer = x_train.funder.str.lower().value_counts()\n",
    "installer = funder[funder > 250]\n",
    "installer\n",
    "x_train['installer_mod'] = [i if i in installer else 'Unknown' for i in x_train.installer]"
   ]
  },
  {
   "cell_type": "code",
   "execution_count": 10,
   "metadata": {},
   "outputs": [],
   "source": [
    "from sklearn.preprocessing import MinMaxScaler, OneHotEncoder, StandardScaler\n",
    "from sklearn.compose import ColumnTransformer\n",
    "from sklearn.model_selection import train_test_split\n",
    "from sklearn.pipeline import Pipeline\n",
    "\n",
    "def pipeline(feature_set, numeric_set):\n",
    "    numeric_features = numeric_set\n",
    "    numeric_transformer = Pipeline(steps=[\n",
    "        ('scaler', StandardScaler())])\n",
    "\n",
    "    categorical_features =  [i for i in feature_set if i not in numeric_set]\n",
    "    categorical_transformer = Pipeline(steps=[\n",
    "        ('onehot', OneHotEncoder(handle_unknown='ignore'))])\n",
    "\n",
    "    preprocessor = ColumnTransformer(\n",
    "        transformers=[\n",
    "            ('cat', categorical_transformer, categorical_features),\n",
    "            ('num', numeric_transformer, numeric_features)\n",
    "        ])\n",
    "\n",
    "    clf = Pipeline(steps=[('preprocessor', preprocessor)\n",
    "                         ])\n",
    "\n",
    "    clf.fit(x_train)\n",
    "    \n",
    "    return clf"
   ]
  },
  {
   "cell_type": "code",
   "execution_count": 11,
   "metadata": {},
   "outputs": [],
   "source": [
    "feature_set = ['amount_tsh', 'population', 'funder_mod', 'district_code', 'gps_height', 'region', 'public_meeting', 'scheme_management', 'permit', 'construction_year', 'extraction_type_group', 'management_group', 'payment_type', 'quality_group', 'quantity_group', 'source_type', 'waterpoint_type_group']\n",
    "numeric_features = ['amount_tsh', 'population', 'gps_height', 'construction_year']\n",
    "clf = pipeline(feature_set, numeric_features)\n",
    "\n",
    "xxx_train = pd.DataFrame(clf.transform(x_train).todense())\n",
    "yyy_train = pd.DataFrame(y_train)"
   ]
  },
  {
   "cell_type": "code",
   "execution_count": 12,
   "metadata": {},
   "outputs": [],
   "source": [
    "from sklearn import preprocessing\n",
    "from sklearn.experimental import enable_hist_gradient_boosting\n",
    "from sklearn.ensemble import HistGradientBoostingClassifier\n",
    "\n",
    "def create_gradientbooster_model(feature_set, cat_var):\n",
    "    clf = HistGradientBoostingClassifier()\n",
    "    clf.fit(xxx_train, yy_train)\n",
    "    \n",
    "    return clf, xxx_validate, pd.DataFrame(yy_validate)"
   ]
  },
  {
   "cell_type": "code",
   "execution_count": 13,
   "metadata": {},
   "outputs": [],
   "source": [
    "from sklearn import preprocessing\n",
    "from sklearn.ensemble import RandomForestClassifier\n",
    "def create_randomforest_model(feature_set, cat_var):\n",
    "    clf = RandomForestClassifier()\n",
    "    clf.fit(xxx_train, yyy_train)\n",
    "    \n",
    "    return clf"
   ]
  },
  {
   "cell_type": "code",
   "execution_count": 14,
   "metadata": {},
   "outputs": [
    {
     "name": "stderr",
     "output_type": "stream",
     "text": [
      "/Users/prateekagarwal2/opt/anaconda3/lib/python3.7/site-packages/sklearn/utils/validation.py:63: DataConversionWarning: A column-vector y was passed when a 1d array was expected. Please change the shape of y to (n_samples, ), for example using ravel().\n",
      "  return f(*args, **kwargs)\n"
     ]
    },
    {
     "data": {
      "text/plain": [
       "HistGradientBoostingClassifier()"
      ]
     },
     "execution_count": 14,
     "metadata": {},
     "output_type": "execute_result"
    }
   ],
   "source": [
    "grad_boost_model = HistGradientBoostingClassifier()\n",
    "grad_boost_model.fit(xxx_train, yyy_train)"
   ]
  },
  {
   "cell_type": "code",
   "execution_count": 15,
   "metadata": {},
   "outputs": [
    {
     "name": "stderr",
     "output_type": "stream",
     "text": [
      "/Users/prateekagarwal2/opt/anaconda3/lib/python3.7/site-packages/ipykernel_launcher.py:2: DataConversionWarning: A column-vector y was passed when a 1d array was expected. Please change the shape of y to (n_samples,), for example using ravel().\n",
      "  \n"
     ]
    },
    {
     "data": {
      "text/plain": [
       "RandomForestClassifier()"
      ]
     },
     "execution_count": 15,
     "metadata": {},
     "output_type": "execute_result"
    }
   ],
   "source": [
    "random_forest_model = RandomForestClassifier()\n",
    "random_forest_model.fit(xxx_train, yyy_train)"
   ]
  },
  {
   "cell_type": "code",
   "execution_count": 16,
   "metadata": {},
   "outputs": [
    {
     "name": "stdout",
     "output_type": "stream",
     "text": [
      "Epoch 1/25\n",
      "3713/3713 [==============================] - 4s 959us/step - loss: 0.4828 - accuracy: 0.7599\n",
      "Epoch 2/25\n",
      "3713/3713 [==============================] - 4s 969us/step - loss: 0.4423 - accuracy: 0.7858\n",
      "Epoch 3/25\n",
      "3713/3713 [==============================] - 4s 975us/step - loss: 0.4261 - accuracy: 0.7952\n",
      "Epoch 4/25\n",
      "3713/3713 [==============================] - 4s 957us/step - loss: 0.4158 - accuracy: 0.8020\n",
      "Epoch 5/25\n",
      "3713/3713 [==============================] - 4s 949us/step - loss: 0.4077 - accuracy: 0.8050\n",
      "Epoch 6/25\n",
      "3713/3713 [==============================] - 4s 957us/step - loss: 0.3990 - accuracy: 0.8105\n",
      "Epoch 7/25\n",
      "3713/3713 [==============================] - 4s 952us/step - loss: 0.3942 - accuracy: 0.8136\n",
      "Epoch 8/25\n",
      "3713/3713 [==============================] - 4s 978us/step - loss: 0.3888 - accuracy: 0.8156\n",
      "Epoch 9/25\n",
      "3713/3713 [==============================] - 4s 963us/step - loss: 0.3834 - accuracy: 0.8185\n",
      "Epoch 10/25\n",
      "3713/3713 [==============================] - 4s 957us/step - loss: 0.3795 - accuracy: 0.8199\n",
      "Epoch 11/25\n",
      "3713/3713 [==============================] - 4s 978us/step - loss: 0.3742 - accuracy: 0.8230\n",
      "Epoch 12/25\n",
      "3713/3713 [==============================] - 4s 971us/step - loss: 0.3703 - accuracy: 0.8248\n",
      "Epoch 13/25\n",
      "3713/3713 [==============================] - 4s 966us/step - loss: 0.3665 - accuracy: 0.8273\n",
      "Epoch 14/25\n",
      "3713/3713 [==============================] - 4s 987us/step - loss: 0.3632 - accuracy: 0.8279\n",
      "Epoch 15/25\n",
      "3713/3713 [==============================] - 4s 1ms/step - loss: 0.3603 - accuracy: 0.8306\n",
      "Epoch 16/25\n",
      "3713/3713 [==============================] - 4s 974us/step - loss: 0.3563 - accuracy: 0.8316\n",
      "Epoch 17/25\n",
      "3713/3713 [==============================] - 4s 979us/step - loss: 0.3563 - accuracy: 0.8313\n",
      "Epoch 18/25\n",
      "3713/3713 [==============================] - 4s 980us/step - loss: 0.3519 - accuracy: 0.8338\n",
      "Epoch 19/25\n",
      "3713/3713 [==============================] - 4s 974us/step - loss: 0.3493 - accuracy: 0.8336\n",
      "Epoch 20/25\n",
      "3713/3713 [==============================] - 4s 984us/step - loss: 0.3467 - accuracy: 0.8363\n",
      "Epoch 21/25\n",
      "3713/3713 [==============================] - 4s 986us/step - loss: 0.3444 - accuracy: 0.8370\n",
      "Epoch 22/25\n",
      "3713/3713 [==============================] - 4s 1000us/step - loss: 0.3419 - accuracy: 0.8397\n",
      "Epoch 23/25\n",
      "3713/3713 [==============================] - 4s 996us/step - loss: 0.3401 - accuracy: 0.8387\n",
      "Epoch 24/25\n",
      "3713/3713 [==============================] - 4s 1ms/step - loss: 0.3381 - accuracy: 0.8393\n",
      "Epoch 25/25\n",
      "3713/3713 [==============================] - 4s 980us/step - loss: 0.3367 - accuracy: 0.8392\n"
     ]
    },
    {
     "data": {
      "text/plain": [
       "<keras.callbacks.History at 0x7fb572423150>"
      ]
     },
     "execution_count": 16,
     "metadata": {},
     "output_type": "execute_result"
    }
   ],
   "source": [
    "from keras.models import Sequential, Model\n",
    "from keras.layers import Dense, concatenate, Input\n",
    "from tensorflow.keras.optimizers import Adagrad, Adam\n",
    "from keras.callbacks import EarlyStopping\n",
    "\n",
    "ip = Input(shape=xxx_train.shape[1], name='ip')\n",
    "x1 = Dense(250, activation='relu')(ip)\n",
    "x2 = Dense(100, activation='relu')(x1)\n",
    "x3 = Dense(50, activation='relu')(x2)\n",
    "x4 = Dense(10, activation='relu')(x3)\n",
    "output = Dense(1, activation='sigmoid')(x4)\n",
    "\n",
    "nn_model = Model(inputs = ip, outputs=output)\n",
    "nn_model.compile(optimizer='adam', loss = 'binary_crossentropy', metrics=['accuracy'])\n",
    "nn_model.fit(xxx_train, yyy_train, epochs=25, batch_size = 16)"
   ]
  },
  {
   "cell_type": "code",
   "execution_count": 19,
   "metadata": {},
   "outputs": [],
   "source": [
    "x_test = pd.read_csv('WaterPumpData/features_test.csv')\n",
    "x_test['funder_mod'] = [i if i in funder else 'Unknown' for i in x_test.funder]\n",
    "\n",
    "x_test['installer_mod'] = [i if i in installer else 'Unknown' for i in x_test.installer]\n",
    "\n",
    "xx_test = pd.DataFrame(clf.transform(x_test).todense())"
   ]
  },
  {
   "cell_type": "code",
   "execution_count": 20,
   "metadata": {},
   "outputs": [],
   "source": [
    "grad_boost_pred = grad_boost_model.predict(xx_test)\n",
    "random_forest_pred = random_forest_model.predict(xx_test)\n",
    "nn_pred = nn_model.predict(xx_test)"
   ]
  },
  {
   "cell_type": "code",
   "execution_count": 25,
   "metadata": {},
   "outputs": [],
   "source": [
    "y_test = pd.DataFrame(x_test['id'])"
   ]
  },
  {
   "cell_type": "code",
   "execution_count": 26,
   "metadata": {},
   "outputs": [],
   "source": [
    "y_test['gb_pred'] = grad_boost_pred\n",
    "y_test['rf_pred'] = random_forest_pred\n",
    "y_test['nn_pred_raw'] = nn_pred"
   ]
  },
  {
   "cell_type": "code",
   "execution_count": 27,
   "metadata": {},
   "outputs": [
    {
     "data": {
      "text/html": [
       "<div>\n",
       "<style scoped>\n",
       "    .dataframe tbody tr th:only-of-type {\n",
       "        vertical-align: middle;\n",
       "    }\n",
       "\n",
       "    .dataframe tbody tr th {\n",
       "        vertical-align: top;\n",
       "    }\n",
       "\n",
       "    .dataframe thead th {\n",
       "        text-align: right;\n",
       "    }\n",
       "</style>\n",
       "<table border=\"1\" class=\"dataframe\">\n",
       "  <thead>\n",
       "    <tr style=\"text-align: right;\">\n",
       "      <th></th>\n",
       "      <th>id</th>\n",
       "      <th>gb_pred</th>\n",
       "      <th>rf_pred</th>\n",
       "      <th>nn_pred_raw</th>\n",
       "    </tr>\n",
       "  </thead>\n",
       "  <tbody>\n",
       "    <tr>\n",
       "      <th>0</th>\n",
       "      <td>50785</td>\n",
       "      <td>0</td>\n",
       "      <td>0</td>\n",
       "      <td>5.393758e-01</td>\n",
       "    </tr>\n",
       "    <tr>\n",
       "      <th>1</th>\n",
       "      <td>51630</td>\n",
       "      <td>1</td>\n",
       "      <td>1</td>\n",
       "      <td>6.455615e-01</td>\n",
       "    </tr>\n",
       "    <tr>\n",
       "      <th>2</th>\n",
       "      <td>17168</td>\n",
       "      <td>1</td>\n",
       "      <td>1</td>\n",
       "      <td>9.317144e-01</td>\n",
       "    </tr>\n",
       "    <tr>\n",
       "      <th>3</th>\n",
       "      <td>45559</td>\n",
       "      <td>0</td>\n",
       "      <td>0</td>\n",
       "      <td>1.579969e-08</td>\n",
       "    </tr>\n",
       "    <tr>\n",
       "      <th>4</th>\n",
       "      <td>49871</td>\n",
       "      <td>1</td>\n",
       "      <td>1</td>\n",
       "      <td>9.999998e-01</td>\n",
       "    </tr>\n",
       "    <tr>\n",
       "      <th>...</th>\n",
       "      <td>...</td>\n",
       "      <td>...</td>\n",
       "      <td>...</td>\n",
       "      <td>...</td>\n",
       "    </tr>\n",
       "    <tr>\n",
       "      <th>14845</th>\n",
       "      <td>39307</td>\n",
       "      <td>0</td>\n",
       "      <td>0</td>\n",
       "      <td>1.040053e-01</td>\n",
       "    </tr>\n",
       "    <tr>\n",
       "      <th>14846</th>\n",
       "      <td>18990</td>\n",
       "      <td>1</td>\n",
       "      <td>1</td>\n",
       "      <td>9.993078e-01</td>\n",
       "    </tr>\n",
       "    <tr>\n",
       "      <th>14847</th>\n",
       "      <td>28749</td>\n",
       "      <td>1</td>\n",
       "      <td>1</td>\n",
       "      <td>8.495509e-01</td>\n",
       "    </tr>\n",
       "    <tr>\n",
       "      <th>14848</th>\n",
       "      <td>33492</td>\n",
       "      <td>1</td>\n",
       "      <td>1</td>\n",
       "      <td>9.377990e-01</td>\n",
       "    </tr>\n",
       "    <tr>\n",
       "      <th>14849</th>\n",
       "      <td>68707</td>\n",
       "      <td>0</td>\n",
       "      <td>0</td>\n",
       "      <td>4.712471e-02</td>\n",
       "    </tr>\n",
       "  </tbody>\n",
       "</table>\n",
       "<p>14850 rows × 4 columns</p>\n",
       "</div>"
      ],
      "text/plain": [
       "          id  gb_pred  rf_pred   nn_pred_raw\n",
       "0      50785        0        0  5.393758e-01\n",
       "1      51630        1        1  6.455615e-01\n",
       "2      17168        1        1  9.317144e-01\n",
       "3      45559        0        0  1.579969e-08\n",
       "4      49871        1        1  9.999998e-01\n",
       "...      ...      ...      ...           ...\n",
       "14845  39307        0        0  1.040053e-01\n",
       "14846  18990        1        1  9.993078e-01\n",
       "14847  28749        1        1  8.495509e-01\n",
       "14848  33492        1        1  9.377990e-01\n",
       "14849  68707        0        0  4.712471e-02\n",
       "\n",
       "[14850 rows x 4 columns]"
      ]
     },
     "execution_count": 27,
     "metadata": {},
     "output_type": "execute_result"
    }
   ],
   "source": [
    "y_test"
   ]
  },
  {
   "cell_type": "code",
   "execution_count": 28,
   "metadata": {},
   "outputs": [],
   "source": [
    "y_test['nn_pred'] = round(y_test.nn_pred_raw)"
   ]
  },
  {
   "cell_type": "code",
   "execution_count": 29,
   "metadata": {},
   "outputs": [],
   "source": [
    "y_test[\"sum\"] = y_test.gb_pred + y_test.rf_pred + y_test.nn_pred"
   ]
  },
  {
   "cell_type": "code",
   "execution_count": 30,
   "metadata": {},
   "outputs": [],
   "source": [
    "y_test[\"consensus\"] = y_test['sum'].apply(lambda x: 1 if x in [2, 3] else 0)"
   ]
  },
  {
   "cell_type": "code",
   "execution_count": 31,
   "metadata": {},
   "outputs": [
    {
     "data": {
      "text/html": [
       "<div>\n",
       "<style scoped>\n",
       "    .dataframe tbody tr th:only-of-type {\n",
       "        vertical-align: middle;\n",
       "    }\n",
       "\n",
       "    .dataframe tbody tr th {\n",
       "        vertical-align: top;\n",
       "    }\n",
       "\n",
       "    .dataframe thead th {\n",
       "        text-align: right;\n",
       "    }\n",
       "</style>\n",
       "<table border=\"1\" class=\"dataframe\">\n",
       "  <thead>\n",
       "    <tr style=\"text-align: right;\">\n",
       "      <th></th>\n",
       "      <th>id</th>\n",
       "      <th>gb_pred</th>\n",
       "      <th>rf_pred</th>\n",
       "      <th>nn_pred_raw</th>\n",
       "      <th>nn_pred</th>\n",
       "      <th>sum</th>\n",
       "      <th>consensus</th>\n",
       "    </tr>\n",
       "  </thead>\n",
       "  <tbody>\n",
       "    <tr>\n",
       "      <th>0</th>\n",
       "      <td>50785</td>\n",
       "      <td>0</td>\n",
       "      <td>0</td>\n",
       "      <td>5.393758e-01</td>\n",
       "      <td>1.0</td>\n",
       "      <td>1.0</td>\n",
       "      <td>0</td>\n",
       "    </tr>\n",
       "    <tr>\n",
       "      <th>1</th>\n",
       "      <td>51630</td>\n",
       "      <td>1</td>\n",
       "      <td>1</td>\n",
       "      <td>6.455615e-01</td>\n",
       "      <td>1.0</td>\n",
       "      <td>3.0</td>\n",
       "      <td>1</td>\n",
       "    </tr>\n",
       "    <tr>\n",
       "      <th>2</th>\n",
       "      <td>17168</td>\n",
       "      <td>1</td>\n",
       "      <td>1</td>\n",
       "      <td>9.317144e-01</td>\n",
       "      <td>1.0</td>\n",
       "      <td>3.0</td>\n",
       "      <td>1</td>\n",
       "    </tr>\n",
       "    <tr>\n",
       "      <th>3</th>\n",
       "      <td>45559</td>\n",
       "      <td>0</td>\n",
       "      <td>0</td>\n",
       "      <td>1.579969e-08</td>\n",
       "      <td>0.0</td>\n",
       "      <td>0.0</td>\n",
       "      <td>0</td>\n",
       "    </tr>\n",
       "    <tr>\n",
       "      <th>4</th>\n",
       "      <td>49871</td>\n",
       "      <td>1</td>\n",
       "      <td>1</td>\n",
       "      <td>9.999998e-01</td>\n",
       "      <td>1.0</td>\n",
       "      <td>3.0</td>\n",
       "      <td>1</td>\n",
       "    </tr>\n",
       "    <tr>\n",
       "      <th>...</th>\n",
       "      <td>...</td>\n",
       "      <td>...</td>\n",
       "      <td>...</td>\n",
       "      <td>...</td>\n",
       "      <td>...</td>\n",
       "      <td>...</td>\n",
       "      <td>...</td>\n",
       "    </tr>\n",
       "    <tr>\n",
       "      <th>14845</th>\n",
       "      <td>39307</td>\n",
       "      <td>0</td>\n",
       "      <td>0</td>\n",
       "      <td>1.040053e-01</td>\n",
       "      <td>0.0</td>\n",
       "      <td>0.0</td>\n",
       "      <td>0</td>\n",
       "    </tr>\n",
       "    <tr>\n",
       "      <th>14846</th>\n",
       "      <td>18990</td>\n",
       "      <td>1</td>\n",
       "      <td>1</td>\n",
       "      <td>9.993078e-01</td>\n",
       "      <td>1.0</td>\n",
       "      <td>3.0</td>\n",
       "      <td>1</td>\n",
       "    </tr>\n",
       "    <tr>\n",
       "      <th>14847</th>\n",
       "      <td>28749</td>\n",
       "      <td>1</td>\n",
       "      <td>1</td>\n",
       "      <td>8.495509e-01</td>\n",
       "      <td>1.0</td>\n",
       "      <td>3.0</td>\n",
       "      <td>1</td>\n",
       "    </tr>\n",
       "    <tr>\n",
       "      <th>14848</th>\n",
       "      <td>33492</td>\n",
       "      <td>1</td>\n",
       "      <td>1</td>\n",
       "      <td>9.377990e-01</td>\n",
       "      <td>1.0</td>\n",
       "      <td>3.0</td>\n",
       "      <td>1</td>\n",
       "    </tr>\n",
       "    <tr>\n",
       "      <th>14849</th>\n",
       "      <td>68707</td>\n",
       "      <td>0</td>\n",
       "      <td>0</td>\n",
       "      <td>4.712471e-02</td>\n",
       "      <td>0.0</td>\n",
       "      <td>0.0</td>\n",
       "      <td>0</td>\n",
       "    </tr>\n",
       "  </tbody>\n",
       "</table>\n",
       "<p>14850 rows × 7 columns</p>\n",
       "</div>"
      ],
      "text/plain": [
       "          id  gb_pred  rf_pred   nn_pred_raw  nn_pred  sum  consensus\n",
       "0      50785        0        0  5.393758e-01      1.0  1.0          0\n",
       "1      51630        1        1  6.455615e-01      1.0  3.0          1\n",
       "2      17168        1        1  9.317144e-01      1.0  3.0          1\n",
       "3      45559        0        0  1.579969e-08      0.0  0.0          0\n",
       "4      49871        1        1  9.999998e-01      1.0  3.0          1\n",
       "...      ...      ...      ...           ...      ...  ...        ...\n",
       "14845  39307        0        0  1.040053e-01      0.0  0.0          0\n",
       "14846  18990        1        1  9.993078e-01      1.0  3.0          1\n",
       "14847  28749        1        1  8.495509e-01      1.0  3.0          1\n",
       "14848  33492        1        1  9.377990e-01      1.0  3.0          1\n",
       "14849  68707        0        0  4.712471e-02      0.0  0.0          0\n",
       "\n",
       "[14850 rows x 7 columns]"
      ]
     },
     "execution_count": 31,
     "metadata": {},
     "output_type": "execute_result"
    }
   ],
   "source": [
    "y_test"
   ]
  },
  {
   "cell_type": "code",
   "execution_count": 32,
   "metadata": {},
   "outputs": [],
   "source": [
    "y_test['status_group'] = y_test.consensus.apply(lambda x: 'functional' if x==1 else 'non functional')"
   ]
  },
  {
   "cell_type": "code",
   "execution_count": 33,
   "metadata": {},
   "outputs": [],
   "source": [
    "results = y_test[['id', 'status_group']]\n",
    "results.to_csv(\"submission.csv\")"
   ]
  },
  {
   "cell_type": "code",
   "execution_count": null,
   "metadata": {},
   "outputs": [],
   "source": []
  }
 ],
 "metadata": {
  "kernelspec": {
   "display_name": "Python 3",
   "language": "python",
   "name": "python3"
  },
  "language_info": {
   "codemirror_mode": {
    "name": "ipython",
    "version": 3
   },
   "file_extension": ".py",
   "mimetype": "text/x-python",
   "name": "python",
   "nbconvert_exporter": "python",
   "pygments_lexer": "ipython3",
   "version": "3.7.6"
  }
 },
 "nbformat": 4,
 "nbformat_minor": 4
}
